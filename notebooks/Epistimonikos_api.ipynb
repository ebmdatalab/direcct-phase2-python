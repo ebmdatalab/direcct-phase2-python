{
 "cells": [
  {
   "cell_type": "markdown",
   "metadata": {},
   "source": [
    "https://api.epistemonikos.org\n",
    "\n",
    "https://app.iloveevidence.com/loves/5e6fdb9669c00e4ac072701d\n",
    "\n",
    "https://api.iloveevidence.com/pub/v2.alpha/references/search\n",
    "\n",
    "https://docs.google.com/document/d/1r6R2odna0QllscYmpQLlG8megu0qEW4qzsmQq930UG0/edit#"
   ]
  },
  {
   "cell_type": "code",
   "execution_count": 1,
   "metadata": {},
   "outputs": [],
   "source": [
    "import sys\n",
    "from pathlib import Path\n",
    "import os\n",
    "cwd = os.getcwd()\n",
    "parent = str(Path(cwd).parents[0])\n",
    "sys.path.append(parent)\n",
    "\n",
    "%load_ext autoreload\n",
    "%autoreload 2"
   ]
  },
  {
   "cell_type": "code",
   "execution_count": 2,
   "metadata": {},
   "outputs": [],
   "source": [
    "from lib.credentials import epistemonikos_api"
   ]
  },
  {
   "cell_type": "code",
   "execution_count": 5,
   "metadata": {},
   "outputs": [],
   "source": [
    "from requests import get\n",
    "from requests import post"
   ]
  },
  {
   "cell_type": "code",
   "execution_count": 72,
   "metadata": {},
   "outputs": [],
   "source": [
    "from math import ceil\n",
    "from tqdm.auto import tqdm"
   ]
  },
  {
   "cell_type": "code",
   "execution_count": 66,
   "metadata": {},
   "outputs": [],
   "source": [
    "search_api = \"https://api.iloveevidence.com/pub/v2.alpha/references/search\"\n",
    "\n",
    "headers = {'Authorization': f\"Token token={epistemonikos_api['access_token']}\"}"
   ]
  },
  {
   "cell_type": "code",
   "execution_count": 16,
   "metadata": {},
   "outputs": [
    {
     "data": {
      "text/plain": [
       "{'error': 'Not Authorized'}"
      ]
     },
     "execution_count": 16,
     "metadata": {},
     "output_type": "execute_result"
    }
   ],
   "source": [
    "get(\"https://api.epistemonikos.org/v1/documents/00bffc961ab6f181eca9f2aa184970c3c48a1ff1\").json()"
   ]
  },
  {
   "cell_type": "code",
   "execution_count": 30,
   "metadata": {},
   "outputs": [
    {
     "data": {
      "text/plain": [
       "{'citation': 'Sadoff J, Le Gars M, Shukarev G, Heerwegh D, Truyers C, de Groot AM, Stoop J, Tete S, Van Damme W, Leroux-Roels I, Berghmans PJ, Kimmel M, Van Damme P, de Hoon J, Smith W, Stephenson KE, De Rosa SC, Cohen KW, McElrath MJ, Cormier E, Scheper G, Barouch DH, Hendriks J, Struyf F, Douoguih M, Van Hoof J, Schuitemaker H. Interim Results of a Phase 1-2a Trial of Ad26.COV2.S Covid-19 Vaccine. The New England journal of medicine. 2021;384(19):1824-1835.',\n",
       " 'external_links': {'publisher': 'https://dx.doi.org/10.1056/NEJMoa2034201',\n",
       "  'pubmed': 'https://www.ncbi.nlm.nih.gov/pubmed/33440088',\n",
       "  'epistemonikos': 'https://www.epistemonikos.org/en/documents/00bffc961ab6f181eca9f2aa184970c3c48a1ff1'},\n",
       " 'id': '00bffc961ab6f181eca9f2aa184970c3c48a1ff1',\n",
       " 'metadata': {'rct': True, 'classification': 'primary-study'},\n",
       " 'content': {'abstract': 'BACKGROUND: Efficacious vaccines are urgently needed to contain the ongoing coronavirus disease 2019 (Covid-19) pandemic of infection with severe acute respiratory syndrome coronavirus 2 (SARS-CoV-2). A candidate vaccine, Ad26.COV2.S, is a recombinant, replication-incompetent adenovirus serotype 26 (Ad26) vector encoding a full-length and stabilized SARS-CoV-2 spike protein.\\nMETHODS: In this multicenter, placebo-controlled, phase 1-2a trial, we randomly assigned healthy adults between the ages of 18 and 55 years (cohort 1) and those 65 years of age or older (cohort 3) to receive the Ad26.COV2.S vaccine at a dose of 5×1010 viral particles (low dose) or 1×1011 viral particles (high dose) per milliliter or placebo in a single-dose or two-dose schedule. Longer-term data comparing a single-dose regimen with a two-dose regimen are being collected in cohort 2; those results are not reported here. The primary end points were the safety and reactogenicity of each dose schedule.\\nRESULTS: After the administration of the first vaccine dose in 805 participants in cohorts 1 and 3 and after the second dose in cohort 1, the most frequent solicited adverse events were fatigue, headache, myalgia, and injection-site pain. The most frequent systemic adverse event was fever. Systemic adverse events were less common in cohort 3 than in cohort 1 and in those who received the low vaccine dose than in those who received the high dose. Reactogenicity was lower after the second dose. Neutralizing-antibody titers against wild-type virus were detected in 90% or more of all participants on day 29 after the first vaccine dose (geometric mean titer [GMT], 224 to 354) and reached 100% by day 57 with a further increase in titers (GMT, 288 to 488), regardless of vaccine dose or age group. Titers remained stable until at least day 71. A second dose provided an increase in the titer by a factor of 2.6 to 2.9 (GMT, 827 to 1266). Spike-binding antibody responses were similar to neutralizing-antibody responses. On day 14, CD4+ T-cell responses were detected in 76 to 83% of the participants in cohort 1 and in 60 to 67% of those in cohort 3, with a clear skewing toward type 1 helper T cells. CD8+ T-cell responses were robust overall but lower in cohort 3.\\nCONCLUSIONS: The safety and immunogenicity profiles of Ad26.COV2.S support further development of this vaccine candidate. (Funded by Johnson & Johnson and the Biomedical Advanced Research and Development Authority of the Department of Health and Human Services; COV1001 ClinicalTrials.gov number, NCT04436276.).',\n",
       "  'publication': {'issue': '19',\n",
       "   'type': 'journal',\n",
       "   'pages': '1824-1835',\n",
       "   'ISSN': '1533-4406',\n",
       "   'volume': '384',\n",
       "   'name': 'The New England journal of medicine'},\n",
       "  'title': 'Interim Results of a Phase 1-2a Trial of Ad26.COV2.S Covid-19 Vaccine.',\n",
       "  'authors': ['Sadoff J',\n",
       "   'Le Gars M',\n",
       "   'Shukarev G',\n",
       "   'Heerwegh D',\n",
       "   'Truyers C',\n",
       "   'de Groot AM',\n",
       "   'Stoop J',\n",
       "   'Tete S',\n",
       "   'Van Damme W',\n",
       "   'Leroux-Roels I',\n",
       "   'Berghmans PJ',\n",
       "   'Kimmel M',\n",
       "   'Van Damme P',\n",
       "   'de Hoon J',\n",
       "   'Smith W',\n",
       "   'Stephenson KE',\n",
       "   'De Rosa SC',\n",
       "   'Cohen KW',\n",
       "   'McElrath MJ',\n",
       "   'Cormier E',\n",
       "   'Scheper G',\n",
       "   'Barouch DH',\n",
       "   'Hendriks J',\n",
       "   'Struyf F',\n",
       "   'Douoguih M',\n",
       "   'Van Hoof J',\n",
       "   'Schuitemaker H'],\n",
       "  'year': 2021},\n",
       " 'identifiers': {'doi': '10.1056/NEJMoa2034201',\n",
       "  'pubmed': '33440088',\n",
       "  'epistemonikos': '00bffc961ab6f181eca9f2aa184970c3c48a1ff1'}}"
      ]
     },
     "execution_count": 30,
     "metadata": {},
     "output_type": "execute_result"
    }
   ],
   "source": [
    "response = get(\"https://api.epistemonikos.org/v1/documents/00bffc961ab6f181eca9f2aa184970c3c48a1ff1\", headers={'Authorization': f\"Token token={epistemonikos_api['access_token']}\"})\n",
    "response.json()"
   ]
  },
  {
   "cell_type": "code",
   "execution_count": 31,
   "metadata": {},
   "outputs": [
    {
     "data": {
      "text/plain": [
       "{'citation': 'Sadoff J, Le Gars M, Shukarev G, Heerwegh D, Truyers C, de Groot AM, Stoop J, Tete S, Van Damme W, Leroux-Roels I, Berghmans PJ, Kimmel M, Van Damme P, de Hoon J, Smith W, Stephenson KE, De Rosa SC, Cohen KW, McElrath MJ, Cormier E, Scheper G, Barouch DH, Hendriks J, Struyf F, Douoguih M, Van Hoof J, Schuitemaker H. Interim Results of a Phase 1-2a Trial of Ad26.COV2.S Covid-19 Vaccine. The New England journal of medicine. 2021;384(19):1824-1835.',\n",
       " 'external_links': {'publisher': 'https://dx.doi.org/10.1056/NEJMoa2034201',\n",
       "  'pubmed': 'https://www.ncbi.nlm.nih.gov/pubmed/33440088',\n",
       "  'epistemonikos': 'https://www.epistemonikos.org/en/documents/00bffc961ab6f181eca9f2aa184970c3c48a1ff1'},\n",
       " 'id': '00bffc961ab6f181eca9f2aa184970c3c48a1ff1',\n",
       " 'metadata': {'rct': True, 'classification': 'primary-study'},\n",
       " 'content': {'abstract': 'BACKGROUND: Efficacious vaccines are urgently needed to contain the ongoing coronavirus disease 2019 (Covid-19) pandemic of infection with severe acute respiratory syndrome coronavirus 2 (SARS-CoV-2). A candidate vaccine, Ad26.COV2.S, is a recombinant, replication-incompetent adenovirus serotype 26 (Ad26) vector encoding a full-length and stabilized SARS-CoV-2 spike protein.\\nMETHODS: In this multicenter, placebo-controlled, phase 1-2a trial, we randomly assigned healthy adults between the ages of 18 and 55 years (cohort 1) and those 65 years of age or older (cohort 3) to receive the Ad26.COV2.S vaccine at a dose of 5×1010 viral particles (low dose) or 1×1011 viral particles (high dose) per milliliter or placebo in a single-dose or two-dose schedule. Longer-term data comparing a single-dose regimen with a two-dose regimen are being collected in cohort 2; those results are not reported here. The primary end points were the safety and reactogenicity of each dose schedule.\\nRESULTS: After the administration of the first vaccine dose in 805 participants in cohorts 1 and 3 and after the second dose in cohort 1, the most frequent solicited adverse events were fatigue, headache, myalgia, and injection-site pain. The most frequent systemic adverse event was fever. Systemic adverse events were less common in cohort 3 than in cohort 1 and in those who received the low vaccine dose than in those who received the high dose. Reactogenicity was lower after the second dose. Neutralizing-antibody titers against wild-type virus were detected in 90% or more of all participants on day 29 after the first vaccine dose (geometric mean titer [GMT], 224 to 354) and reached 100% by day 57 with a further increase in titers (GMT, 288 to 488), regardless of vaccine dose or age group. Titers remained stable until at least day 71. A second dose provided an increase in the titer by a factor of 2.6 to 2.9 (GMT, 827 to 1266). Spike-binding antibody responses were similar to neutralizing-antibody responses. On day 14, CD4+ T-cell responses were detected in 76 to 83% of the participants in cohort 1 and in 60 to 67% of those in cohort 3, with a clear skewing toward type 1 helper T cells. CD8+ T-cell responses were robust overall but lower in cohort 3.\\nCONCLUSIONS: The safety and immunogenicity profiles of Ad26.COV2.S support further development of this vaccine candidate. (Funded by Johnson & Johnson and the Biomedical Advanced Research and Development Authority of the Department of Health and Human Services; COV1001 ClinicalTrials.gov number, NCT04436276.).',\n",
       "  'publication': {'issue': '19',\n",
       "   'type': 'journal',\n",
       "   'pages': '1824-1835',\n",
       "   'ISSN': '1533-4406',\n",
       "   'volume': '384',\n",
       "   'name': 'The New England journal of medicine'},\n",
       "  'title': 'Interim Results of a Phase 1-2a Trial of Ad26.COV2.S Covid-19 Vaccine.',\n",
       "  'authors': ['Sadoff J',\n",
       "   'Le Gars M',\n",
       "   'Shukarev G',\n",
       "   'Heerwegh D',\n",
       "   'Truyers C',\n",
       "   'de Groot AM',\n",
       "   'Stoop J',\n",
       "   'Tete S',\n",
       "   'Van Damme W',\n",
       "   'Leroux-Roels I',\n",
       "   'Berghmans PJ',\n",
       "   'Kimmel M',\n",
       "   'Van Damme P',\n",
       "   'de Hoon J',\n",
       "   'Smith W',\n",
       "   'Stephenson KE',\n",
       "   'De Rosa SC',\n",
       "   'Cohen KW',\n",
       "   'McElrath MJ',\n",
       "   'Cormier E',\n",
       "   'Scheper G',\n",
       "   'Barouch DH',\n",
       "   'Hendriks J',\n",
       "   'Struyf F',\n",
       "   'Douoguih M',\n",
       "   'Van Hoof J',\n",
       "   'Schuitemaker H'],\n",
       "  'year': 2021},\n",
       " 'identifiers': {'doi': '10.1056/NEJMoa2034201',\n",
       "  'pubmed': '33440088',\n",
       "  'epistemonikos': '00bffc961ab6f181eca9f2aa184970c3c48a1ff1'}}"
      ]
     },
     "execution_count": 31,
     "metadata": {},
     "output_type": "execute_result"
    }
   ],
   "source": [
    "response = get(\"https://api.epistemonikos.org/v1/documents/00bffc961ab6f181eca9f2aa184970c3c48a1ff1\", headers={'Authorization': epistemonikos_api['access_token']})\n",
    "response.json()"
   ]
  },
  {
   "cell_type": "code",
   "execution_count": 93,
   "metadata": {},
   "outputs": [],
   "source": [
    "payload = {\"categories\": \"5e7fce7e3d05156b5f5e032a\", \n",
    "           \"article_type\": \"primary-study\",\n",
    "           #\"study_design\": \"rct\",\n",
    "           \"sort_by\": \"year\",\n",
    "           \"order_by\": \"asc\",\n",
    "           \"page\": 1,\n",
    "           \"size\": 2}\n",
    "\n",
    "pre_response = post(search_api, headers={'Authorization': f\"Token token={epistemonikos_api['access_token']}\"}, data=payload)"
   ]
  },
  {
   "cell_type": "code",
   "execution_count": 97,
   "metadata": {},
   "outputs": [],
   "source": [
    "from time import sleep"
   ]
  },
  {
   "cell_type": "code",
   "execution_count": 103,
   "metadata": {},
   "outputs": [
    {
     "data": {
      "text/plain": [
       "{'info': {'total_items': 218438,\n",
       "  'results_per_page': 2,\n",
       "  'current_page': 1,\n",
       "  'page_items': 2},\n",
       " 'items': [{'publication_info': {'ref_id': '02b449eb434986d9c249c1bda1c67e42a0e5cba6',\n",
       "    'title': 'A Study about the impact of weather, life expectancy and tourism on the transmission of COVID-19',\n",
       "    'abstract': '',\n",
       "    'year': 1969,\n",
       "    'authors': [],\n",
       "    'journal': '',\n",
       "    'external_ids': [{'source': 'doi',\n",
       "      'id': '10.2174/2666796701999201014155715'},\n",
       "     {'source': 'microsoft', 'id': '3096179900'}],\n",
       "    'links': [{'link': 'https://academic.microsoft.com/paper/3096179900',\n",
       "      'name': 'academic.microsoft.com'}]},\n",
       "   'metadata': {'article_type': None}},\n",
       "  {'publication_info': {'ref_id': '3481c4610599e2b45d1b94d283c904849d72bb99',\n",
       "    'title': 'A Comparative Study of SARS, MERS with COVID-19',\n",
       "    'abstract': '',\n",
       "    'year': 1969,\n",
       "    'authors': [],\n",
       "    'journal': '',\n",
       "    'external_ids': [{'source': 'microsoft', 'id': '3116518523'}],\n",
       "    'links': [{'link': 'https://academic.microsoft.com/paper/3116518523',\n",
       "      'name': 'academic.microsoft.com'}]},\n",
       "   'metadata': {'article_type': None}}]}"
      ]
     },
     "execution_count": 103,
     "metadata": {},
     "output_type": "execute_result"
    }
   ],
   "source": [
    "pre_response.json()"
   ]
  },
  {
   "cell_type": "code",
   "execution_count": 96,
   "metadata": {},
   "outputs": [
    {
     "name": "stdout",
     "output_type": "stream",
     "text": [
      "4369\n"
     ]
    }
   ],
   "source": [
    "max_page = ceil(pre_response.json()['info']['total_items'] / 50)\n",
    "print(max_page)"
   ]
  },
  {
   "cell_type": "code",
   "execution_count": 98,
   "metadata": {},
   "outputs": [
    {
     "data": {
      "application/vnd.jupyter.widget-view+json": {
       "model_id": "247f227bd11f419fb8dc02e34acc4a46",
       "version_major": 2,
       "version_minor": 0
      },
      "text/plain": [
       "HBox(children=(FloatProgress(value=0.0, max=500.0), HTML(value='')))"
      ]
     },
     "metadata": {},
     "output_type": "display_data"
    },
    {
     "name": "stdout",
     "output_type": "stream",
     "text": [
      "\n"
     ]
    }
   ],
   "source": [
    "records = []\n",
    "\n",
    "for x in tqdm(range(1,max_page+1)[0:10]):\n",
    "    payload = {\"categories\": \"5e7fce7e3d05156b5f5e032a\", \n",
    "           \"article_type\": \"primary-study\",\n",
    "           #\"study_design\": \"rct\",\n",
    "           \"sort_by\": \"year\",\n",
    "           \"order_by\": \"asc\",\n",
    "           \"page\": x,\n",
    "           \"size\": 50}\n",
    "    response = post(search_api, headers=headers, data=payload).json()\n",
    "    records = records + response['items']\n",
    "    sleep(1)\n",
    "    "
   ]
  },
  {
   "cell_type": "code",
   "execution_count": 99,
   "metadata": {},
   "outputs": [],
   "source": [
    "import pandas as pd"
   ]
  },
  {
   "cell_type": "code",
   "execution_count": 100,
   "metadata": {},
   "outputs": [],
   "source": [
    "ids = []\n",
    "for x in records:\n",
    "    external = x['publication_info']['external_ids']\n",
    "    for i in external:\n",
    "        ids.append(i)"
   ]
  },
  {
   "cell_type": "code",
   "execution_count": 101,
   "metadata": {},
   "outputs": [
    {
     "data": {
      "text/plain": [
       "microsoft         18813\n",
       "doi               16695\n",
       "pubmed             7949\n",
       "pmc                5754\n",
       "cinahl             2097\n",
       "medrxiv            1735\n",
       "clinicaltrials      977\n",
       "ssrn                913\n",
       "researchsquare      772\n",
       "vhl                 476\n",
       "psycinfo            264\n",
       "chictr              172\n",
       "ctri                158\n",
       "irct                123\n",
       "euctr                77\n",
       "drks                 37\n",
       "isrctn               34\n",
       "actrn                21\n",
       "rbr                  20\n",
       "uminctr              18\n",
       "nltr                 15\n",
       "pactr                 7\n",
       "jrct                  6\n",
       "per                   5\n",
       "rpcec                 4\n",
       "tctr                  2\n",
       "japic                 1\n",
       "kct                   1\n",
       "slctr                 1\n",
       "lbctr                 1\n",
       "Name: source, dtype: int64"
      ]
     },
     "execution_count": 101,
     "metadata": {},
     "output_type": "execute_result"
    }
   ],
   "source": [
    "pd.DataFrame(ids).source.value_counts()"
   ]
  },
  {
   "cell_type": "code",
   "execution_count": null,
   "metadata": {},
   "outputs": [],
   "source": []
  }
 ],
 "metadata": {
  "jupytext": {
   "cell_metadata_filter": "all",
   "notebook_metadata_filter": "all,-language_info",
   "text_representation": {
    "extension": ".py",
    "format_name": "light",
    "format_version": "1.5",
    "jupytext_version": "1.3.3"
   }
  },
  "kernelspec": {
   "display_name": "Python 3",
   "language": "python",
   "name": "python3"
  },
  "language_info": {
   "codemirror_mode": {
    "name": "ipython",
    "version": 3
   },
   "file_extension": ".py",
   "mimetype": "text/x-python",
   "name": "python",
   "nbconvert_exporter": "python",
   "pygments_lexer": "ipython3",
   "version": "3.8.1"
  }
 },
 "nbformat": 4,
 "nbformat_minor": 4
}
