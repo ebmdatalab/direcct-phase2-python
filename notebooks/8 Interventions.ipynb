{
 "cells": [
  {
   "cell_type": "code",
   "execution_count": null,
   "id": "04e10449-496f-4c19-bda6-b906281dfe16",
   "metadata": {},
   "outputs": [],
   "source": [
    "import sys\n",
    "from pathlib import Path\n",
    "import os\n",
    "cwd = os.getcwd()\n",
    "parent = str(Path(cwd).parents[0])\n",
    "sys.path.append(parent)"
   ]
  },
  {
   "cell_type": "code",
   "execution_count": null,
   "id": "345d3b1d-d891-454d-a175-d90227e4b958",
   "metadata": {},
   "outputs": [],
   "source": [
    "import pandas as pd\n",
    "import numpy as np\n",
    "import collections"
   ]
  },
  {
   "cell_type": "code",
   "execution_count": null,
   "id": "6dff9d9e-ab0f-43e1-b8dc-e902972a22fb",
   "metadata": {},
   "outputs": [],
   "source": [
    "arms = pd.read_csv('https://raw.githubusercontent.com/maia-sh/direcct-analysis/main/data/reporting/arms.csv')"
   ]
  },
  {
   "cell_type": "code",
   "execution_count": null,
   "id": "a4836613-9c64-4c74-b24c-cdfa58deb711",
   "metadata": {},
   "outputs": [],
   "source": [
    "len(arms)"
   ]
  },
  {
   "cell_type": "code",
   "execution_count": null,
   "id": "8eb456f6-3455-4cc8-a6ec-39d5a9db955e",
   "metadata": {},
   "outputs": [],
   "source": [
    "intervention_arms = arms[arms.type == 'experimental']"
   ]
  },
  {
   "cell_type": "code",
   "execution_count": null,
   "id": "c7956ab4-11c2-49d0-b4aa-d079cadb64b7",
   "metadata": {},
   "outputs": [],
   "source": [
    "intervention_arms.head()"
   ]
  },
  {
   "cell_type": "code",
   "execution_count": null,
   "id": "3b986cd6-c5cc-4b0e-92e1-1c3f2fbc23be",
   "metadata": {},
   "outputs": [],
   "source": [
    "included_trials = pd.read_csv('https://raw.githubusercontent.com/maia-sh/direcct-analysis/main/data/reporting/main-analyses/kaplan-meier-time-to-pub.csv')"
   ]
  },
  {
   "cell_type": "code",
   "execution_count": null,
   "id": "e2a4b0ab-057a-42cc-99aa-a23582efa193",
   "metadata": {},
   "outputs": [],
   "source": [
    "included_trials.head()"
   ]
  },
  {
   "cell_type": "code",
   "execution_count": null,
   "id": "7129ae35-f0cf-4e00-8017-b7506b581cbd",
   "metadata": {},
   "outputs": [],
   "source": [
    "intervention_arms2 = intervention_arms[intervention_arms.id.isin(included_trials.id.to_list())].reset_index(drop=True)"
   ]
  },
  {
   "cell_type": "code",
   "execution_count": null,
   "id": "7b230b8e-631a-4f6f-84a1-232a80e9d8b6",
   "metadata": {},
   "outputs": [],
   "source": [
    "len(intervention_arms2)"
   ]
  },
  {
   "cell_type": "code",
   "execution_count": null,
   "id": "009bbfdd-c73b-42da-9613-504348d4050c",
   "metadata": {},
   "outputs": [],
   "source": [
    "grouped = intervention_arms2[['id', 'intervention']].groupby('id')['intervention'].apply(list)"
   ]
  },
  {
   "cell_type": "code",
   "execution_count": null,
   "id": "598c8787-f0f3-48ff-9a3a-f3e1d301a42c",
   "metadata": {},
   "outputs": [],
   "source": [
    "ids = grouped.index.to_list()\n",
    "ints = grouped.to_list()"
   ]
  },
  {
   "cell_type": "code",
   "execution_count": null,
   "id": "b6e0c579-5680-49bb-9cc4-985b2ede0dfb",
   "metadata": {},
   "outputs": [],
   "source": [
    "unique_tx_dict = {}\n",
    "running_int_list = []\n",
    "\n",
    "for i, t in zip(ids, ints):\n",
    "    all_ints = []\n",
    "    for x in t:\n",
    "        if ';' in x:\n",
    "            split_ints = x.split(';')\n",
    "            all_ints = all_ints + split_ints\n",
    "        else:\n",
    "            all_ints.append(x)\n",
    "    unique_tx_dict[i] = ';'.join(set(all_ints))\n",
    "    running_int_list = running_int_list + list(set(all_ints))"
   ]
  },
  {
   "cell_type": "code",
   "execution_count": null,
   "id": "b614fe24-6ffe-4813-a59d-579ca61312a2",
   "metadata": {},
   "outputs": [],
   "source": [
    "c = collections.Counter(x for x in running_int_list if x)"
   ]
  },
  {
   "cell_type": "code",
   "execution_count": null,
   "id": "606f5350-337d-4e60-b6ad-aa139bbd497f",
   "metadata": {},
   "outputs": [],
   "source": [
    "int_counts = pd.DataFrame.from_dict(dict(c), orient='index').reset_index()\n",
    "int_counts.columns = ['interventions', 'counts']"
   ]
  },
  {
   "cell_type": "code",
   "execution_count": null,
   "id": "0bc9c342-7f00-47bb-baaf-1ed106044901",
   "metadata": {},
   "outputs": [],
   "source": [
    "int_counts.sort_values(by='counts', ascending=False).to_csv(parent + '/data/interventions/' + 'top_ints.csv')"
   ]
  },
  {
   "cell_type": "code",
   "execution_count": null,
   "id": "47ca253f-1bcf-4d7d-9410-5abdba2ac3b4",
   "metadata": {},
   "outputs": [],
   "source": [
    "int_counts.sort_values(by='counts', ascending=False).head(10)"
   ]
  },
  {
   "cell_type": "code",
   "execution_count": null,
   "id": "407d6de9-b7b1-4cc1-b979-3b5f68ee8040",
   "metadata": {
    "lines_to_next_cell": 0
   },
   "outputs": [],
   "source": [
    "pd.DataFrame.from_dict(unique_tx_dict, orient='index').reset_index().rename({'index':'id', 0:'intervention'}, axis=1).to_csv(parent + '/data/interventions/' + 'int_mapping.csv')"
   ]
  },
  {
   "cell_type": "code",
   "execution_count": null,
   "id": "4663a05a-7d3c-4879-95bd-c18c212ad2ca",
   "metadata": {},
   "outputs": [],
   "source": []
  },
  {
   "cell_type": "code",
   "execution_count": null,
   "id": "eab00988-39f7-419a-8c19-62df45f85d88",
   "metadata": {
    "lines_to_next_cell": 2
   },
   "outputs": [],
   "source": []
  },
  {
   "cell_type": "code",
   "execution_count": null,
   "id": "2ac12eca-f107-4784-8ea9-65e9fb39a7a9",
   "metadata": {},
   "outputs": [],
   "source": []
  },
  {
   "cell_type": "code",
   "execution_count": null,
   "id": "a76928a0-fff9-42b1-814f-575804581626",
   "metadata": {},
   "outputs": [],
   "source": []
  },
  {
   "cell_type": "code",
   "execution_count": null,
   "id": "85ed56a6-ac66-481a-8002-4bf280850550",
   "metadata": {},
   "outputs": [],
   "source": []
  }
 ],
 "metadata": {
  "jupytext": {
   "cell_metadata_filter": "all",
   "notebook_metadata_filter": "all,-language_info"
  },
  "kernelspec": {
   "display_name": "Python 3",
   "language": "python",
   "name": "python3"
  },
  "language_info": {
   "codemirror_mode": {
    "name": "ipython",
    "version": 3
   },
   "file_extension": ".py",
   "mimetype": "text/x-python",
   "name": "python",
   "nbconvert_exporter": "python",
   "pygments_lexer": "ipython3",
   "version": "3.8.1"
  }
 },
 "nbformat": 4,
 "nbformat_minor": 5
}
