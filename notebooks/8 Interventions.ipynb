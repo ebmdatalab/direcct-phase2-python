{
 "cells": [
  {
   "cell_type": "code",
   "execution_count": null,
   "id": "04e10449-496f-4c19-bda6-b906281dfe16",
   "metadata": {},
   "outputs": [],
   "source": [
    "import sys\n",
    "from pathlib import Path\n",
    "import os\n",
    "cwd = os.getcwd()\n",
    "parent = str(Path(cwd).parents[0])\n",
    "sys.path.append(parent)"
   ]
  },
  {
   "cell_type": "code",
   "execution_count": null,
   "id": "345d3b1d-d891-454d-a175-d90227e4b958",
   "metadata": {},
   "outputs": [],
   "source": [
    "import pandas as pd\n",
    "import numpy as np\n",
    "import collections"
   ]
  },
  {
   "cell_type": "code",
   "execution_count": null,
   "id": "6dff9d9e-ab0f-43e1-b8dc-e902972a22fb",
   "metadata": {},
   "outputs": [],
   "source": [
    "arms = pd.read_csv('https://raw.githubusercontent.com/maia-sh/direcct-analysis/main/data/reporting/arms.csv')"
   ]
  },
  {
   "cell_type": "code",
   "execution_count": null,
   "id": "a4836613-9c64-4c74-b24c-cdfa58deb711",
   "metadata": {},
   "outputs": [],
   "source": [
    "len(arms)"
   ]
  },
  {
   "cell_type": "code",
   "execution_count": null,
   "id": "8eb456f6-3455-4cc8-a6ec-39d5a9db955e",
   "metadata": {},
   "outputs": [],
   "source": [
    "intervention_arms = arms[arms.type == 'experimental']"
   ]
  },
  {
   "cell_type": "code",
   "execution_count": null,
   "id": "c7956ab4-11c2-49d0-b4aa-d079cadb64b7",
   "metadata": {},
   "outputs": [],
   "source": [
    "intervention_arms.head()"
   ]
  },
  {
   "cell_type": "code",
   "execution_count": null,
   "id": "3b986cd6-c5cc-4b0e-92e1-1c3f2fbc23be",
   "metadata": {},
   "outputs": [],
   "source": [
    "included_trials = pd.read_csv('https://raw.githubusercontent.com/maia-sh/direcct-analysis/main/data/reporting/kaplan-meier-time-to-pub.csv')"
   ]
  },
  {
   "cell_type": "code",
   "execution_count": null,
   "id": "e2a4b0ab-057a-42cc-99aa-a23582efa193",
   "metadata": {},
   "outputs": [],
   "source": [
    "included_trials.head()"
   ]
  },
  {
   "cell_type": "code",
   "execution_count": null,
   "id": "7129ae35-f0cf-4e00-8017-b7506b581cbd",
   "metadata": {},
   "outputs": [],
   "source": [
    "intervention_arms2 = intervention_arms[intervention_arms.id.isin(included_trials.id.to_list())].reset_index(drop=True)"
   ]
  },
  {
   "cell_type": "code",
   "execution_count": null,
   "id": "7b230b8e-631a-4f6f-84a1-232a80e9d8b6",
   "metadata": {},
   "outputs": [],
   "source": [
    "len(intervention_arms2)"
   ]
  },
  {
   "cell_type": "code",
   "execution_count": null,
   "id": "009bbfdd-c73b-42da-9613-504348d4050c",
   "metadata": {},
   "outputs": [],
   "source": [
    "grouped = intervention_arms2[['id', 'intervention']].groupby('id')['intervention'].apply(list)"
   ]
  },
  {
   "cell_type": "code",
   "execution_count": null,
   "id": "598c8787-f0f3-48ff-9a3a-f3e1d301a42c",
   "metadata": {},
   "outputs": [],
   "source": [
    "ids = grouped.index.to_list()\n",
    "ints = grouped.to_list()"
   ]
  },
  {
   "cell_type": "code",
   "execution_count": null,
   "id": "b6e0c579-5680-49bb-9cc4-985b2ede0dfb",
   "metadata": {},
   "outputs": [],
   "source": [
    "unique_tx_dict = {}\n",
    "running_int_list = []\n",
    "\n",
    "for i, t in zip(ids, ints):\n",
    "    all_ints = []\n",
    "    for x in t:\n",
    "        if ';' in x:\n",
    "            split_ints = x.split(';')\n",
    "            all_ints = all_ints + split_ints\n",
    "        else:\n",
    "            all_ints.append(x)\n",
    "    unique_tx_dict[i] = ';'.join(set(all_ints))\n",
    "    running_int_list = running_int_list + list(set(all_ints))"
   ]
  },
  {
   "cell_type": "code",
   "execution_count": null,
   "id": "b614fe24-6ffe-4813-a59d-579ca61312a2",
   "metadata": {},
   "outputs": [],
   "source": [
    "c = collections.Counter(x for x in running_int_list if x)"
   ]
  },
  {
   "cell_type": "code",
   "execution_count": null,
   "id": "606f5350-337d-4e60-b6ad-aa139bbd497f",
   "metadata": {},
   "outputs": [],
   "source": [
    "int_counts = pd.DataFrame.from_dict(dict(c), orient='index').reset_index()\n",
    "int_counts.columns = ['interventions', 'counts']"
   ]
  },
  {
   "cell_type": "code",
   "execution_count": null,
   "id": "0bc9c342-7f00-47bb-baaf-1ed106044901",
   "metadata": {},
   "outputs": [],
   "source": [
    "int_counts.sort_values(by='counts', ascending=False).to_csv(parent + '/data/interventions/' + 'top_ints.csv')"
   ]
  },
  {
   "cell_type": "code",
   "execution_count": null,
   "id": "47ca253f-1bcf-4d7d-9410-5abdba2ac3b4",
   "metadata": {},
   "outputs": [],
   "source": [
    "int_counts.sort_values(by='counts', ascending=False).head(10)"
   ]
  },
  {
   "cell_type": "code",
   "execution_count": null,
   "id": "407d6de9-b7b1-4cc1-b979-3b5f68ee8040",
   "metadata": {},
   "outputs": [],
   "source": [
    "pd.DataFrame.from_dict(unique_tx_dict, orient='index').reset_index().rename({'index':'id', 0:'intervention'}, axis=1).to_csv(parent + '/data/interventions/' + 'int_mapping.csv')"
   ]
  },
  {
   "cell_type": "code",
   "execution_count": null,
   "id": "4663a05a-7d3c-4879-95bd-c18c212ad2ca",
   "metadata": {},
   "outputs": [],
   "source": []
  },
  {
   "cell_type": "code",
   "execution_count": null,
   "id": "eab00988-39f7-419a-8c19-62df45f85d88",
   "metadata": {},
   "outputs": [],
   "source": []
  },
  {
   "cell_type": "code",
   "execution_count": null,
   "id": "dd27d4a4-65d7-4999-a523-dd44b5d6c706",
   "metadata": {},
   "outputs": [],
   "source": [
    "#These should be final\n",
    "\n",
    "raw_extract = pd.read_csv(parent + '/data/interventions/2023-03-27_070005-form_7-refset_34-extractions.tsv', sep='\\t', encoding=\"ISO-8859-1\")\n",
    "raw_arms = pd.read_csv(parent + '/data/interventions/2023-03-27_070008-sub_arm-refset_34-sub-extraction.tsv', sep='\\t', encoding=\"ISO-8859-1\")\n",
    "rec_extract = pd.read_csv(parent + '/data/interventions/2023-03-27_070013-form_7-refset_34-final.tsv', sep='\\t', encoding=\"ISO-8859-1\")\n",
    "rec_arms = pd.read_csv(parent + '/data/interventions/2023-03-27_070017-sub_arm-refset_34-sub-final.tsv', sep='\\t', encoding=\"ISO-8859-1\")"
   ]
  },
  {
   "cell_type": "code",
   "execution_count": null,
   "id": "df6609ad-8615-4e50-9e72-e8024a75b936",
   "metadata": {},
   "outputs": [],
   "source": [
    "reconciled_ids = rec_arms.db_id.to_list()\n",
    "\n",
    "remove_rec = raw_arms[~raw_arms.db_id.isin(reconciled_ids)]\n",
    "\n",
    "cols = ['db_id', 'trialid', 'type', 'placebo_plus_soc', 'category', 'intervention', 'intervention_plus_soc']\n",
    "\n",
    "final_int = pd.concat([remove_rec[cols], rec_arms[cols]]).reset_index(drop=True)\n",
    "\n",
    "final_exp = final_int[final_int.type == 'experimental'].reset_index(drop=True)"
   ]
  },
  {
   "cell_type": "code",
   "execution_count": null,
   "id": "c6d88130-6a14-495b-b731-1081bc35201d",
   "metadata": {},
   "outputs": [],
   "source": [
    "arms = final_exp[['db_id', 'intervention']].groupby('db_id')['intervention'].apply(list)"
   ]
  },
  {
   "cell_type": "code",
   "execution_count": null,
   "id": "648e1ee4-e854-43cf-b854-86539c69a0c2",
   "metadata": {},
   "outputs": [],
   "source": [
    "ids = arms.index.to_list()\n",
    "ints = arms.to_list()"
   ]
  },
  {
   "cell_type": "code",
   "execution_count": null,
   "id": "1f51cf7b-86dd-49e0-8202-d0b7492c3124",
   "metadata": {},
   "outputs": [],
   "source": [
    "unique_tx_dict = {}\n",
    "running_int_list = []\n",
    "\n",
    "for i, t in zip(ids, ints):\n",
    "    all_ints = []\n",
    "    for x in t:\n",
    "        if ';' in x:\n",
    "            split_ints = x.split(';')\n",
    "            all_ints = all_ints + split_ints\n",
    "        else:\n",
    "            all_ints.append(x)\n",
    "    unique_tx_dict[i] = ';'.join(set(all_ints))\n",
    "    running_int_list = running_int_list + list(set(all_ints))"
   ]
  },
  {
   "cell_type": "code",
   "execution_count": null,
   "id": "69f0804f-6639-4bc8-805a-158806be6185",
   "metadata": {},
   "outputs": [],
   "source": [
    "c = collections.Counter(x for x in running_int_list if x)"
   ]
  },
  {
   "cell_type": "code",
   "execution_count": null,
   "id": "139099b3-f7d6-4a22-9d95-d6accfb3d43e",
   "metadata": {},
   "outputs": [],
   "source": [
    "int_counts = pd.DataFrame.from_dict(dict(c), orient='index').reset_index()\n",
    "int_counts.columns = ['interventions', 'counts']"
   ]
  },
  {
   "cell_type": "code",
   "execution_count": null,
   "id": "53b529de-7c9f-442a-87a1-bab934477950",
   "metadata": {},
   "outputs": [],
   "source": [
    "int_counts.sort_values(by='counts', ascending=False).to_csv(parent + '/data/interventions/' + 'top_ints.csv')"
   ]
  },
  {
   "cell_type": "code",
   "execution_count": null,
   "id": "3a030da5-e632-4b30-9e73-181a36f05ea9",
   "metadata": {
    "lines_to_next_cell": 0
   },
   "outputs": [],
   "source": [
    "pd.DataFrame.from_dict(unique_tx_dict, orient='index').reset_index().rename({'index':'id', 0:'intervention'}, axis=1).to_csv(parent + '/data/interventions/' + 'int_mapping.csv')"
   ]
  },
  {
   "cell_type": "code",
   "execution_count": null,
   "id": "2ac12eca-f107-4784-8ea9-65e9fb39a7a9",
   "metadata": {},
   "outputs": [],
   "source": []
  },
  {
   "cell_type": "code",
   "execution_count": null,
   "id": "a76928a0-fff9-42b1-814f-575804581626",
   "metadata": {},
   "outputs": [],
   "source": []
  },
  {
   "cell_type": "code",
   "execution_count": null,
   "id": "85ed56a6-ac66-481a-8002-4bf280850550",
   "metadata": {},
   "outputs": [],
   "source": []
  },
  {
   "cell_type": "code",
   "execution_count": null,
   "id": "2cf78a9c-4813-4a7a-abb6-f8112325dcc8",
   "metadata": {
    "lines_to_next_cell": 2
   },
   "outputs": [],
   "source": []
  },
  {
   "cell_type": "markdown",
   "id": "d49e46e6-a582-480e-9c2b-fbc1a6999799",
   "metadata": {},
   "source": [
    "# Old Code...delete everything under here when sure we don't need anymore"
   ]
  },
  {
   "cell_type": "code",
   "execution_count": null,
   "id": "6f34192b-f97e-43d5-8f6e-d4adceee1173",
   "metadata": {},
   "outputs": [],
   "source": [
    "reconciled_ids = rec_arms.db_id.to_list()"
   ]
  },
  {
   "cell_type": "code",
   "execution_count": null,
   "id": "dbf29c5f-dc71-4e04-a4a0-244d458d04a5",
   "metadata": {},
   "outputs": [],
   "source": [
    "remove_rec = raw_arms[~raw_arms.db_id.isin(reconciled_ids)]"
   ]
  },
  {
   "cell_type": "code",
   "execution_count": null,
   "id": "9d54c051-dfb1-414b-a84c-b31e084f5756",
   "metadata": {},
   "outputs": [],
   "source": [
    "cols = ['db_id', 'trialid', 'type', 'placebo_plus_soc', 'category', 'intervention', 'intervention_plus_soc']"
   ]
  },
  {
   "cell_type": "code",
   "execution_count": null,
   "id": "40372651-55e9-4059-b094-ca39b6193b5a",
   "metadata": {},
   "outputs": [],
   "source": [
    "final_int = pd.concat([remove_rec[cols], rec_arms[cols]]).reset_index(drop=True)"
   ]
  },
  {
   "cell_type": "code",
   "execution_count": null,
   "id": "027bcf00-0d91-4368-baef-effdccad8f5e",
   "metadata": {},
   "outputs": [],
   "source": [
    "final_exp = final_int[final_int.type == 'experimental'].reset_index(drop=True)"
   ]
  },
  {
   "cell_type": "code",
   "execution_count": null,
   "id": "1a951987-5602-48ae-ac2c-14464c22d9ca",
   "metadata": {},
   "outputs": [],
   "source": [
    "final_exp.head()"
   ]
  },
  {
   "cell_type": "code",
   "execution_count": null,
   "id": "2811cb8d-b377-4f75-9ae9-58283da82254",
   "metadata": {
    "lines_to_next_cell": 0
   },
   "outputs": [],
   "source": [
    "final_exp.to_csv(parent + '/data/interventions/int_norm_test.csv')"
   ]
  },
  {
   "cell_type": "code",
   "execution_count": null,
   "id": "cc1f8e1c-ad02-4331-ac96-a5297118db89",
   "metadata": {},
   "outputs": [],
   "source": [
    "exp = final_int[final_int.type == 'experimental']"
   ]
  },
  {
   "cell_type": "code",
   "execution_count": null,
   "id": "0853dde1-6e9e-4424-8cfd-b8e3dab16794",
   "metadata": {},
   "outputs": [],
   "source": [
    "final_int[final_int.intervention.isna()]"
   ]
  },
  {
   "cell_type": "code",
   "execution_count": null,
   "id": "488f39d6-cfe1-4624-bf11-4119b3d30306",
   "metadata": {},
   "outputs": [],
   "source": [
    "ints = final_int[final_int.type == 'experimental'].intervention\n",
    "int_list = ints.to_list()"
   ]
  },
  {
   "cell_type": "code",
   "execution_count": null,
   "id": "c56d6791-ed55-48eb-a9fd-e0b48314e4db",
   "metadata": {},
   "outputs": [],
   "source": [
    "final_int.loc[3916]"
   ]
  },
  {
   "cell_type": "code",
   "execution_count": null,
   "id": "433a7979-91cb-43c9-bd53-5fe687f7612c",
   "metadata": {},
   "outputs": [],
   "source": [
    "a = ints.to_frame()\n",
    "a[a.intervention.isna()]"
   ]
  },
  {
   "cell_type": "code",
   "execution_count": null,
   "id": "65e1063d-b44e-499b-8261-66c98245c584",
   "metadata": {},
   "outputs": [],
   "source": [
    "all_ints = []\n",
    "for i in int_list:\n",
    "    if ';' in i:\n",
    "        all_ints = all_ints + i.split(';')\n",
    "    else:\n",
    "        all_ints.append(i)"
   ]
  },
  {
   "cell_type": "code",
   "execution_count": null,
   "id": "07e9af52-3bb1-4eb6-9fe2-65b86bf60f97",
   "metadata": {},
   "outputs": [],
   "source": [
    "c = collections.Counter(x for x in all_ints if x)"
   ]
  },
  {
   "cell_type": "code",
   "execution_count": null,
   "id": "c247a6ce-e2d0-4804-bc15-fe3282f9b5f5",
   "metadata": {},
   "outputs": [],
   "source": [
    "int_counts = pd.DataFrame.from_dict(dict(c), orient='index').reset_index()\n",
    "int_counts.columns = ['interventions', 'counts']"
   ]
  },
  {
   "cell_type": "code",
   "execution_count": null,
   "id": "60594eae-a98b-416f-9a75-f26dcde9c1cc",
   "metadata": {},
   "outputs": [],
   "source": [
    "int_counts.sort_values(by='counts', ascending=False)"
   ]
  },
  {
   "cell_type": "code",
   "execution_count": null,
   "id": "3d8779cd-9aa3-4c6b-a7f1-1063e53a904f",
   "metadata": {},
   "outputs": [],
   "source": [
    "c2 = collections.Counter(x for x in int_list if x)"
   ]
  },
  {
   "cell_type": "code",
   "execution_count": null,
   "id": "137924f3-0adc-40cf-94c5-b0890ef9ecf1",
   "metadata": {},
   "outputs": [],
   "source": [
    "int_counts2 = pd.DataFrame.from_dict(dict(c2), orient='index').reset_index()\n",
    "int_counts2.columns = ['interventions', 'counts']"
   ]
  },
  {
   "cell_type": "code",
   "execution_count": null,
   "id": "ae9538b6-b73b-470a-b86b-940978d1b763",
   "metadata": {},
   "outputs": [],
   "source": [
    "int_counts2"
   ]
  },
  {
   "cell_type": "code",
   "execution_count": null,
   "id": "d8bbedc7-822c-4e47-8ca0-6b4fb030508f",
   "metadata": {},
   "outputs": [],
   "source": [
    "int_counts2.sort_values(by='counts', ascending=False).to_csv(parent + '/data/interventions/int_to_norm.csv')"
   ]
  },
  {
   "cell_type": "code",
   "execution_count": null,
   "id": "d92b79fa-236f-4c4f-a7ac-d8fd44fe32f6",
   "metadata": {
    "lines_to_next_cell": 2
   },
   "outputs": [],
   "source": []
  },
  {
   "cell_type": "code",
   "execution_count": null,
   "id": "de03bfbd-da20-4ad4-a1a0-dba436bb7969",
   "metadata": {},
   "outputs": [],
   "source": [
    "final_exp['HCQ'] = np.where(final_exp.intervention.str.contains('Hydroxychloroquine'), 1, 0)\n",
    "final_exp['IVE'] = np.where(final_exp.intervention.str.contains('Ivermectin'), 1, 0)\n",
    "final_exp['CP'] = np.where(final_exp.intervention.str.contains('Convalescent Plasma'), 1, 0)"
   ]
  },
  {
   "cell_type": "code",
   "execution_count": null,
   "id": "1b4b643e-1a5f-4197-bf5d-e7f2a5f8824c",
   "metadata": {
    "lines_to_next_cell": 0
   },
   "outputs": [],
   "source": [
    "final_exp[['db_id', 'HCQ', 'IVE', 'CP']].groupby('db_id').sum().to_csv(parent + '/data/interventions/common_ints.csv')"
   ]
  },
  {
   "cell_type": "code",
   "execution_count": null,
   "id": "b137d19d-a0bd-4528-bde8-23891825fac5",
   "metadata": {},
   "outputs": [],
   "source": []
  },
  {
   "cell_type": "code",
   "execution_count": null,
   "id": "3c3717f7-6cbe-46b9-91fd-2d6dc80bcd3c",
   "metadata": {},
   "outputs": [],
   "source": []
  },
  {
   "cell_type": "code",
   "execution_count": null,
   "id": "703f9a1b-c7d0-4519-809b-6a7ada833be4",
   "metadata": {},
   "outputs": [],
   "source": []
  },
  {
   "cell_type": "code",
   "execution_count": null,
   "id": "43eacd0b-d16e-4cdf-b156-8d3b62a03cd6",
   "metadata": {},
   "outputs": [],
   "source": []
  },
  {
   "cell_type": "code",
   "execution_count": null,
   "id": "4ba8993f-fac2-40e7-ab4c-528fff630883",
   "metadata": {
    "lines_to_next_cell": 2
   },
   "outputs": [],
   "source": []
  },
  {
   "cell_type": "code",
   "execution_count": null,
   "id": "4904b9c4-0894-44af-9c81-db1a5e439224",
   "metadata": {},
   "outputs": [],
   "source": [
    "ints = final_int[final_int.type == 'experimental'].intervention"
   ]
  },
  {
   "cell_type": "code",
   "execution_count": null,
   "id": "df3068e0-87bd-460c-b14a-aa9cae005b91",
   "metadata": {
    "lines_to_next_cell": 0
   },
   "outputs": [],
   "source": [
    "ints"
   ]
  },
  {
   "cell_type": "code",
   "execution_count": null,
   "id": "ec746c72-813a-49c7-b354-362a1425a49e",
   "metadata": {
    "lines_to_next_cell": 2
   },
   "outputs": [],
   "source": []
  },
  {
   "cell_type": "code",
   "execution_count": null,
   "id": "1dad0be5-2d65-473d-9f10-c4459f29fdfb",
   "metadata": {},
   "outputs": [],
   "source": [
    "ints_exp = final_int[final_int.type == 'experimental']"
   ]
  },
  {
   "cell_type": "code",
   "execution_count": null,
   "id": "90e034c2-e024-4b8b-9387-55a50e5ee9ed",
   "metadata": {},
   "outputs": [],
   "source": [
    "ints_exp[ints_exp."
   ]
  },
  {
   "cell_type": "code",
   "execution_count": null,
   "id": "07a6a208-95bb-43c1-8196-08b87d890f30",
   "metadata": {
    "lines_to_next_cell": 0
   },
   "outputs": [],
   "source": [
    "final_int[final_int.intervention == 'Dabur chyawanprash']"
   ]
  },
  {
   "cell_type": "code",
   "execution_count": null,
   "id": "a19eef05-1643-4897-b758-4b0773a49aaa",
   "metadata": {},
   "outputs": [],
   "source": []
  },
  {
   "cell_type": "code",
   "execution_count": null,
   "id": "b177f508-a964-4097-8bd6-acb0528eae9b",
   "metadata": {},
   "outputs": [],
   "source": []
  },
  {
   "cell_type": "code",
   "execution_count": null,
   "id": "a9abcebf-efa9-4104-8bc6-63800a7a4297",
   "metadata": {},
   "outputs": [],
   "source": []
  },
  {
   "cell_type": "code",
   "execution_count": null,
   "id": "5cb14551-ce30-407f-9dc0-fb85d87a7dc8",
   "metadata": {},
   "outputs": [],
   "source": []
  },
  {
   "cell_type": "code",
   "execution_count": null,
   "id": "832aa126-1d5f-42e2-9eea-e71ecabe237b",
   "metadata": {},
   "outputs": [],
   "source": []
  },
  {
   "cell_type": "code",
   "execution_count": null,
   "id": "017f5c30-2270-47cd-ae06-20fa653589c5",
   "metadata": {
    "lines_to_next_cell": 2
   },
   "outputs": [],
   "source": []
  },
  {
   "cell_type": "code",
   "execution_count": null,
   "id": "f1f3ff6d-3f5c-40b2-8e5d-a15361cc7cd5",
   "metadata": {},
   "outputs": [],
   "source": [
    "int_list = ints.to_list()"
   ]
  },
  {
   "cell_type": "code",
   "execution_count": null,
   "id": "e5f3d7ef-25ec-4843-8d83-5becfb3be90e",
   "metadata": {},
   "outputs": [],
   "source": [
    "all_ints = []\n",
    "for i in int_list:\n",
    "    if ';' in i:\n",
    "        all_ints = all_ints + i.split(';')\n",
    "    else:\n",
    "        all_ints.append(i)"
   ]
  },
  {
   "cell_type": "code",
   "execution_count": null,
   "id": "9200ee2f-7738-4c7b-b3c0-3c7ef9ab18b3",
   "metadata": {},
   "outputs": [],
   "source": [
    "import collections\n",
    "c = collections.Counter(x for x in all_ints if x)"
   ]
  },
  {
   "cell_type": "code",
   "execution_count": null,
   "id": "c1106267-384a-42ce-a862-2d61db749c20",
   "metadata": {},
   "outputs": [],
   "source": [
    "int_counts = pd.DataFrame.from_dict(dict(c), orient='index').reset_index()\n",
    "int_counts.columns = ['interventions', 'counts']"
   ]
  },
  {
   "cell_type": "code",
   "execution_count": null,
   "id": "bbbfd5aa-72f1-4087-8a08-e849bb0ba712",
   "metadata": {},
   "outputs": [],
   "source": [
    "int_counts.sort_values(by='counts', ascending=False).head(10)"
   ]
  },
  {
   "cell_type": "code",
   "execution_count": null,
   "id": "b196637f-59b8-43b2-a32a-9cb82a03cd3d",
   "metadata": {
    "lines_to_next_cell": 0
   },
   "outputs": [],
   "source": [
    "int_counts.to_csv(parent + '/data/interventions/unique_ints.csv')"
   ]
  },
  {
   "cell_type": "code",
   "execution_count": null,
   "id": "4bc1b214-f707-4bef-9d0c-747ade29ac44",
   "metadata": {},
   "outputs": [],
   "source": []
  },
  {
   "cell_type": "code",
   "execution_count": null,
   "id": "dddf58cc-7b77-4c40-a895-1e73afa7864a",
   "metadata": {},
   "outputs": [],
   "source": []
  },
  {
   "cell_type": "code",
   "execution_count": null,
   "id": "3bb9407c-7cb7-4774-8889-c4857fc3654f",
   "metadata": {},
   "outputs": [],
   "source": []
  },
  {
   "cell_type": "code",
   "execution_count": null,
   "id": "f33fced5-a323-4a08-8899-5bf47679cc84",
   "metadata": {},
   "outputs": [],
   "source": []
  },
  {
   "cell_type": "code",
   "execution_count": null,
   "id": "99dc64aa-aaa8-4318-a953-1708d502e031",
   "metadata": {},
   "outputs": [],
   "source": [
    "\n"
   ]
  }
 ],
 "metadata": {
  "jupytext": {
   "cell_metadata_filter": "all",
   "notebook_metadata_filter": "all,-language_info"
  },
  "kernelspec": {
   "display_name": "Python 3",
   "language": "python",
   "name": "python3"
  },
  "language_info": {
   "codemirror_mode": {
    "name": "ipython",
    "version": 3
   },
   "file_extension": ".py",
   "mimetype": "text/x-python",
   "name": "python",
   "nbconvert_exporter": "python",
   "pygments_lexer": "ipython3",
   "version": "3.8.1"
  }
 },
 "nbformat": 4,
 "nbformat_minor": 5
}
