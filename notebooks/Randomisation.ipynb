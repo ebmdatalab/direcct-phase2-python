{
 "cells": [
  {
   "cell_type": "code",
   "execution_count": null,
   "id": "cad1e98a-aa82-4123-889d-c6f328451b5c",
   "metadata": {},
   "outputs": [],
   "source": [
    "import pandas as pd\n",
    "import numpy as np"
   ]
  },
  {
   "cell_type": "code",
   "execution_count": null,
   "id": "fdddfebc-dfbe-4019-9ca7-9f101cdd7621",
   "metadata": {},
   "outputs": [],
   "source": [
    "import sys\n",
    "from pathlib import Path\n",
    "import os\n",
    "cwd = os.getcwd()\n",
    "parent = str(Path(cwd).parents[0])\n",
    "sys.path.append(parent)"
   ]
  },
  {
   "cell_type": "code",
   "execution_count": null,
   "id": "9b4e0478-38c6-4403-bead-a8e1064b46ff",
   "metadata": {},
   "outputs": [],
   "source": [
    "df = pd.read_csv('https://raw.githubusercontent.com/maia-sh/direcct-analysis/main/data/reporting/kaplan-meier-time-to-pub.csv?token=GHSAT0AAAAAAB5S2YBJQ4MQEDBJTJWVKDAAZBFZH4Q')\n",
    "df.head()"
   ]
  },
  {
   "cell_type": "code",
   "execution_count": null,
   "id": "9ad98f69-3041-4b0d-bce2-6c63d60cecc8",
   "metadata": {},
   "outputs": [],
   "source": [
    "randomisation_df = pd.read_csv('https://raw.githubusercontent.com/worcjamessmith/COVID-trial-characteristics/main/data/final_dataset.csv')"
   ]
  },
  {
   "cell_type": "code",
   "execution_count": null,
   "id": "12df0b92-df65-4fe2-9f0f-67bc88056ff3",
   "metadata": {},
   "outputs": [],
   "source": [
    "randomisation_df.head(2)"
   ]
  },
  {
   "cell_type": "code",
   "execution_count": null,
   "id": "19879370-919c-4b57-99c8-7f4290d0850d",
   "metadata": {},
   "outputs": [],
   "source": [
    "randomisation_df[randomisation_df.TrialID.str.contains('EUCTR')]"
   ]
  },
  {
   "cell_type": "code",
   "execution_count": null,
   "id": "90ee6c05-9130-4507-995b-9c6387c7c4ed",
   "metadata": {},
   "outputs": [],
   "source": [
    "randomisation_df.columns"
   ]
  },
  {
   "cell_type": "code",
   "execution_count": null,
   "id": "2c613fb5-3fb5-4729-8a65-1c324fa684c1",
   "metadata": {},
   "outputs": [],
   "source": [
    "registrations = pd.read_csv('https://raw.githubusercontent.com/maia-sh/direcct-analysis/main/data/reporting/registrations.csv?token=GHSAT0AAAAAAB5S2YBI65TVQ7I3LA6SRPMMZBFZPRA')"
   ]
  },
  {
   "cell_type": "code",
   "execution_count": null,
   "id": "b600d4eb-a348-4856-8e17-72d0efa63046",
   "metadata": {},
   "outputs": [],
   "source": [
    "registrations.head()"
   ]
  },
  {
   "cell_type": "code",
   "execution_count": null,
   "id": "aeedacdf-9830-4a5b-8055-d5de0e833074",
   "metadata": {},
   "outputs": [],
   "source": [
    "test = registrations[['id', 'trn']].merge(randomisation_df[['TrialID', 'randomisation']], left_on='trn', right_on='TrialID', how='left')"
   ]
  },
  {
   "cell_type": "code",
   "execution_count": null,
   "id": "04671fa5-d99d-4f87-aa41-e49f9a7835aa",
   "metadata": {},
   "outputs": [],
   "source": [
    "test.head()"
   ]
  },
  {
   "cell_type": "code",
   "execution_count": null,
   "id": "5be1fe54-b6ea-494d-87b4-4548a2ea3495",
   "metadata": {},
   "outputs": [],
   "source": [
    "test.randomisation.value_counts(dropna=False)"
   ]
  },
  {
   "cell_type": "code",
   "execution_count": null,
   "id": "469a74a5-a5c7-44b7-9a16-066020082777",
   "metadata": {},
   "outputs": [],
   "source": [
    "test[test.id.isin(df.id.to_list())].randomisation.value_counts(dropna=False)"
   ]
  },
  {
   "cell_type": "code",
   "execution_count": null,
   "id": "95fa3e6a-fa42-4e3c-9ac3-abe27c4ca0c6",
   "metadata": {
    "lines_to_next_cell": 0
   },
   "outputs": [],
   "source": []
  },
  {
   "cell_type": "code",
   "execution_count": null,
   "id": "5fb253ed-81b4-4e96-af19-e25e097b47aa",
   "metadata": {
    "lines_to_next_cell": 2
   },
   "outputs": [],
   "source": []
  },
  {
   "cell_type": "code",
   "execution_count": null,
   "id": "e1a16b62-1dd0-4cf6-bbf1-66f7d1f5887a",
   "metadata": {},
   "outputs": [],
   "source": [
    "#ICTRP\n",
    "ictrp = pd.read_csv(parent + '/data/ictrp_data/COVID19-web_1July2021.csv', dtype={'Phase': str})"
   ]
  },
  {
   "cell_type": "code",
   "execution_count": null,
   "id": "49cddf88-d5eb-4b37-99cd-b255b479a2bd",
   "metadata": {},
   "outputs": [],
   "source": [
    "ictrp.columns"
   ]
  },
  {
   "cell_type": "code",
   "execution_count": null,
   "id": "6dfcd7e6-42d4-4b0f-b0d7-73cf7bcbf452",
   "metadata": {},
   "outputs": [],
   "source": [
    "working = ictrp[['TrialID', 'Public title', 'Scientific title', 'Source Register', 'Study design']].reset_index(drop=True)"
   ]
  },
  {
   "cell_type": "code",
   "execution_count": null,
   "id": "c181023e-3c32-4e78-a9ca-d50058acb236",
   "metadata": {},
   "outputs": [],
   "source": [
    "working.columns = ['TrialID', 'Public_title', 'Scientific_title', 'Source_registry', 'Study_design']"
   ]
  },
  {
   "cell_type": "code",
   "execution_count": null,
   "id": "131caf61-c9af-4908-ad3f-d779402438f1",
   "metadata": {},
   "outputs": [],
   "source": [
    "#Fix EUCTR IDs"
   ]
  },
  {
   "cell_type": "code",
   "execution_count": null,
   "id": "20aa2c70-3825-4dc0-a21f-91bf17bf7d14",
   "metadata": {},
   "outputs": [],
   "source": [
    "working['TrialID_fixed'] = np.where(working.TrialID.str.contains('EUCTR'), working.TrialID.str.rsplit('-', 1).str.get(0), working.TrialID)"
   ]
  },
  {
   "cell_type": "code",
   "execution_count": null,
   "id": "4b2083d4-83fc-4fce-81b3-859166d14e49",
   "metadata": {},
   "outputs": [],
   "source": [
    "#Limit only to trials we care about to make life easy:"
   ]
  },
  {
   "cell_type": "code",
   "execution_count": null,
   "id": "bd02c7b5-375a-489c-aeb5-58a87fcbd7a6",
   "metadata": {},
   "outputs": [],
   "source": [
    "included_studies = registrations[registrations.id.isin(df.id.to_list())].trn.to_list()"
   ]
  },
  {
   "cell_type": "code",
   "execution_count": null,
   "id": "dd716f37-928e-4c2e-91d8-6df6fbcafb99",
   "metadata": {},
   "outputs": [],
   "source": [
    "final_working = working[working.TrialID_fixed.isin(included_studies)].reset_index(drop=True)"
   ]
  },
  {
   "cell_type": "code",
   "execution_count": null,
   "id": "ccf33353-a676-4002-aef2-f2442f28db56",
   "metadata": {},
   "outputs": [],
   "source": [
    "# +\n",
    "#randomisation checks\n",
    "\n",
    "anzctr_yr = (final_working['Source_registry'] == 'ANZCTR') & (final_working['Study_design'].str.contains('Allocation: Randomised controlled trial'))\n",
    "anzctr_nr = (final_working['Source_registry'] == 'ANZCTR') & (final_working['Study_design'].str.contains('Allocation: Non-randomised trial'))\n",
    "\n",
    "#ChiCTR - only titles to be checked below\n",
    "chictr_yr = (final_working['Source_registry'] == 'ChiCTR') & (final_working['Study_design'].str.contains('Randomized parallel controlled trial|Randomized cross-over control'))\n",
    "chictr_nr = (final_working['Source_registry'] == 'ChiCTR') & (final_working['Study_design'].str.contains('Non randomized|Quasi-randomized controlled'))\n",
    "\n",
    "ctg_yr = (final_working['Source_registry'] == 'ClinicalTrials.gov') & (final_working['Study_design'].str.contains('Allocation: Randomized'))\n",
    "ctg_nr = (final_working['Source_registry'] == 'ClinicalTrials.gov') & (final_working.Study_design.notnull()) & ~(final_working['Study_design'].str.contains('Allocation: Randomized', na=False))\n",
    "\n",
    "ctri_yr = (final_working['Source_registry'] == 'CTRI') & (final_working['Study_design'].str.contains(r'Randomized|Method of generating randomization sequence:Stratified randomization|Method of generating randomization sequence:Computer generated randomization|Method of generating randomization sequence:Other|Method of generating randomization sequence:Random Number Table'))\n",
    "ctri_nr = (final_working['Source_registry'] == 'CTRI') & (final_working['Study_design'].str.contains(r'Non-randomized|Single Arm Trial'))\n",
    "\n",
    "drks_yr = (final_working['Source_registry'] == 'German Clinical Trials Register') & (final_working['Study_design'].str.contains('Allocation: Randomized'))\n",
    "drks_nr = (final_working['Source_registry'] == 'German Clinical Trials Register') & (final_working.Study_design.notnull()) & ~(final_working['Study_design'].str.contains('Allocation: Randomized', na=False))\n",
    "\n",
    "euctr_yr = (final_working['Source_registry'] == 'EU Clinical Trials Register') & (final_working['Study_design'].str.contains('Randomised: yes'))\n",
    "euctr_nr = (final_working['Source_registry'] == 'EU Clinical Trials Register') & (final_working.Study_design.notnull()) & ~(final_working['Study_design'].str.contains('Randomised: yes', na=False))\n",
    "\n",
    "irct_yr = (final_working['Source_registry'] == 'IRCT') & (final_working['Study_design'].str.contains('Randomization: Randomized'))\n",
    "irct_nr = (final_working['Source_registry'] == 'IRCT') & ~(final_working['Study_design'].str.contains('Randomization: Randomized') & ~(final_working['Study_design'].str.contains(r'(?i)Randomization: N/A', na=False)))\n",
    "\n",
    "isrctn_yr = (final_working['Source_registry'] == 'ISRCTN') & (final_working['Study_design'].str.contains(r'(?i)randomi[s,z]ed|cluster-randomised|parallel')) & ~(final_working['Study_design'].str.contains(r'(?i)non-randomi[s,z]ed', na=False))\n",
    "isrctn_nr = (final_working['Source_registry'] == 'ISRCTN') & (final_working['Study_design'].str.contains(r'(?i)non-randomi[s,z]ed'))\n",
    "\n",
    "#lol JPRN-JapicCTI-184176\n",
    "jprn_yr = (final_working['Source_registry'] == 'JPRN') & (final_working['Study_design'].str.contains(r'(?i)randomi[s,z]ed')) & ~(final_working['Study_design'].str.contains(r'(?i)non-randomi[s,z]ed', na=False))\n",
    "jprn_nr = (final_working['Source_registry'] == 'JPRN') & (final_working['Study_design'].str.contains(r'(?i)Non-randomi[s,z]ed|single assignment|single arm'))\n",
    "\n",
    "kct_yr = (final_working['Source_registry'] == 'KCT') & (final_working['Study_design'].str.contains('Allocation : RCT'))\n",
    "kct_nr = (final_working['Source_registry'] == 'KCT') & ~(final_working['Study_design'].str.contains('Allocation : RCT', na=False))\n",
    "\n",
    "lbctr_yr = (final_working['Source_registry'] == 'LBCTR') & (final_working['Study_design'].str.contains('Allocation: Randomized controlled trial'))\n",
    "\n",
    "ntr_yr = (final_working['Source_registry'] == 'Netherlands Trial Register') & (final_working['Study_design'].str.contains('Randomized: Yes'))\n",
    "ntr_nr = (final_working['Source_registry'] == 'Netherlands Trial Register') & ~(final_working['Study_design'].str.contains('Randomized: Yes', na=False))\n",
    "\n",
    "#\"Randomised\" is not capitalised when the value is \"Non-randomised\"\n",
    "pactr_yr = (final_working['Source_registry'] == 'PACTR') & (final_working['Study_design'].str.contains(r'Randomi[s,z]ed'))\n",
    "pactr_nr = (final_working['Source_registry'] == 'PACTR') & ~(final_working['Study_design'].str.contains(r'Randomi[s,z]ed', na=False))\n",
    "\n",
    "#PER: Free text so will only do positive case for randomized\n",
    "per_yr = (final_working['Source_registry'] == 'PER') & (final_working['Study_design'].str.contains(r'(?i)\\brandomi[s,z]ed|Randomization'))\n",
    "\n",
    "#This one is a little hokey...should check or just do manually\n",
    "rbr_yr = (final_working['Source_registry'] == 'RBR') & (final_working['Study_design'].str.contains(r'(?i)randomi[s,z]ed')) & ~(final_working['Study_design'].str.contains(r'(?i)non-?randomi[s,z]ed|single-group', na=False))\n",
    "rbr_nr = (final_working['Source_registry'] == 'RBR') & (final_working['Study_design'].str.contains(r'(?i)non-?randomi[s,z]ed|single-group'))\n",
    "\n",
    "tctr_yr = (final_working['Source_registry'] == 'TCTR') & (final_working['Study_design'].str.contains('Randomized controlled trial'))\n",
    "tctr_nr = (final_working['Source_registry'] == 'TCTR') & (final_working['Study_design'].notnull()) & ~(final_working['Study_design'].str.contains('Randomized controlled trial', na=False)) & ~(final_working['Study_design'] == 'Not Specified')\n",
    "\n",
    "rpcec_yr = (final_working['Source_registry'] == 'RPCEC') & (final_working['Study_design'].str.contains('Allocation: Randomized trial|Allocation: Randomized controlled trial'))\n",
    "rpcec_nr = (final_working['Source_registry'] == 'RPCEC') & ~(final_working['Study_design'].str.contains('Allocation: Randomized trial|Allocation: Randomized controlled trial', na=False))\n",
    "\n",
    "# +\n",
    "conds_r = [anzctr_yr, anzctr_nr, chictr_yr, chictr_nr, ctg_yr, ctg_nr, ctri_yr, ctri_nr, drks_yr, drks_nr, euctr_yr, euctr_nr, \n",
    "           irct_yr, irct_nr, jprn_yr, jprn_nr, kct_yr, kct_nr, ntr_yr, ntr_nr, pactr_yr, pactr_nr, rbr_yr, rbr_nr, \n",
    "           tctr_yr, tctr_nr, rpcec_yr, rpcec_nr, isrctn_yr, isrctn_nr, lbctr_yr, per_yr]\n",
    "\n",
    "out_r = ['Yes', 'No'] *  15 + ['Yes'] * 2\n",
    "\n",
    "final_working['Randomisation'] = np.select(conds_r, out_r, 'Not Assessed')\n",
    "\n",
    "# +\n",
    "randomised_cond = ((final_working.Randomisation != 'Yes') & \n",
    "                   ((final_working['Scientific_title'].str.contains(r'(?i)randomi[s,z]ed|stratified-randomized|random controlled')) | \n",
    "                    (final_working['Public_title'].str.contains(r'(?i)randomi[s,z]ed|stratified-randomized|random controlled'))) & \n",
    "                   ~((final_working['Scientific_title'].str.contains(r'(?i)non-randomi[s,z]ed')) | \n",
    "                     (final_working['Public_title'].str.contains(r'(?i)non-randomi[s,z]ed'))))\n",
    "\n",
    "final_working['Randomisation'] = np.where(randomised_cond, 'Yes', final_working.Randomisation)\n",
    "\n",
    "final_working['Randomisation'] = np.where((final_working['Source_registry'] == 'IRCT') & \n",
    "                                          final_working['Study_design'].str.contains('Randomization: N/A') & \n",
    "                                          ~(final_working['Study_design'].str.contains('Assignment: Single', na=False)), \n",
    "                                          'Not Assessed', final_working.Randomisation)\n",
    "\n",
    "\n",
    "final_working['Randomisation'] = np.where((final_working['Source_registry'] == 'ChiCTR') & \n",
    "                                          final_working['Study_design'].str.contains('Single arm'), \n",
    "                                          'No', final_working.Randomisation)"
   ]
  },
  {
   "cell_type": "code",
   "execution_count": null,
   "id": "a7b7e226-1de5-4700-abca-04fe8d47314a",
   "metadata": {},
   "outputs": [],
   "source": [
    "final_working['Randomisation'].value_counts()"
   ]
  },
  {
   "cell_type": "code",
   "execution_count": null,
   "id": "6877eb4a-dbf0-4ef2-94f8-e6fe0e4bdcdd",
   "metadata": {
    "lines_to_next_cell": 0
   },
   "outputs": [],
   "source": [
    "final_working[(final_working.Randomisation == 'Not Assessed') | (final_working.Randomisation.isna())].Study_design.value_counts()"
   ]
  },
  {
   "cell_type": "code",
   "execution_count": null,
   "id": "d03d78a8-c297-4787-93a2-7f500cd4b1e6",
   "metadata": {
    "lines_to_next_cell": 2
   },
   "outputs": [],
   "source": []
  }
 ],
 "metadata": {
  "jupytext": {
   "cell_metadata_filter": "all",
   "notebook_metadata_filter": "all,-language_info"
  },
  "kernelspec": {
   "display_name": "Python 3",
   "language": "python",
   "name": "python3"
  },
  "language_info": {
   "codemirror_mode": {
    "name": "ipython",
    "version": 3
   },
   "file_extension": ".py",
   "mimetype": "text/x-python",
   "name": "python",
   "nbconvert_exporter": "python",
   "pygments_lexer": "ipython3",
   "version": "3.8.1"
  }
 },
 "nbformat": 4,
 "nbformat_minor": 5
}
