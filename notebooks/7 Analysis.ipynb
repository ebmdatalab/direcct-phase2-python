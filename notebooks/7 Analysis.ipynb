{
 "cells": [
  {
   "cell_type": "code",
   "execution_count": null,
   "metadata": {},
   "outputs": [],
   "source": [
    "import sys\n",
    "from pathlib import Path\n",
    "import os\n",
    "cwd = os.getcwd()\n",
    "parent = str(Path(cwd).parents[0])\n",
    "sys.path.append(parent)"
   ]
  },
  {
   "cell_type": "code",
   "execution_count": null,
   "metadata": {},
   "outputs": [],
   "source": [
    "print(sys.version)"
   ]
  },
  {
   "cell_type": "code",
   "execution_count": null,
   "metadata": {
    "lines_to_next_cell": 0
   },
   "outputs": [],
   "source": [
    "import schemdraw\n",
    "from schemdraw import flow\n",
    "\n",
    "import pandas as pd\n",
    "import numpy as np\n",
    "\n",
    "from lifelines import KaplanMeierFitter\n",
    "#from lifelines_fix import add_at_risk_counts\n",
    "from lifelines.plotting import add_at_risk_counts\n",
    "from lifelines import AalenJohansenFitter\n",
    "import warnings\n",
    "\n",
    "import matplotlib.pyplot as plt \n",
    "from matplotlib_venn import venn3, venn3_circles, venn3_unweighted\n",
    "%matplotlib inline"
   ]
  },
  {
   "cell_type": "code",
   "execution_count": null,
   "metadata": {},
   "outputs": [],
   "source": [
    "from matplotlib.pyplot import Text"
   ]
  },
  {
   "cell_type": "markdown",
   "metadata": {
    "lines_to_next_cell": 2
   },
   "source": [
    "# Loading Data"
   ]
  },
  {
   "cell_type": "code",
   "execution_count": null,
   "metadata": {},
   "outputs": [],
   "source": [
    "df = pd.read_csv('https://raw.githubusercontent.com/maia-sh/direcct-analysis/main/data/reporting/main-analyses/kaplan-meier-time-to-pub.csv')\n",
    "df.head()"
   ]
  },
  {
   "cell_type": "code",
   "execution_count": null,
   "metadata": {},
   "outputs": [],
   "source": [
    "#Making a copy to mess around with\n",
    "df_copy = df.copy()"
   ]
  },
  {
   "cell_type": "code",
   "execution_count": null,
   "metadata": {},
   "outputs": [],
   "source": [
    "results_cutoff = pd.to_datetime('2021-08-15')"
   ]
  },
  {
   "cell_type": "markdown",
   "metadata": {},
   "source": [
    "# Making Dates into Dates"
   ]
  },
  {
   "cell_type": "code",
   "execution_count": null,
   "metadata": {},
   "outputs": [],
   "source": [
    "for x in df_copy.columns:\n",
    "    if 'date' in x:\n",
    "        df_copy[x] = pd.to_datetime(df_copy[x])"
   ]
  },
  {
   "cell_type": "markdown",
   "metadata": {},
   "source": [
    "# Joining in IDs"
   ]
  },
  {
   "cell_type": "code",
   "execution_count": null,
   "metadata": {},
   "outputs": [],
   "source": [
    "df_reg = pd.read_csv('https://raw.githubusercontent.com/maia-sh/direcct-analysis/main/data/reporting/registrations.csv?token=GHSAT0AAAAAAB5S2YBJNSWM6KQE5D6TM7RKZBVHJBQ')"
   ]
  },
  {
   "cell_type": "code",
   "execution_count": null,
   "metadata": {
    "lines_to_next_cell": 2
   },
   "outputs": [],
   "source": [
    "grouped_reg = df_reg[['id','trn']].groupby('id')['trn'].apply(list).to_frame().reset_index()"
   ]
  },
  {
   "cell_type": "code",
   "execution_count": null,
   "metadata": {},
   "outputs": [],
   "source": [
    "df2 = df_copy.merge(grouped_reg[['id', 'trn']], on='id', how='left')"
   ]
  },
  {
   "cell_type": "markdown",
   "metadata": {
    "incorrectly_encoded_metadata": "jp-MarkdownHeadingCollapsed=true",
    "tags": []
   },
   "source": [
    "# Filtering out post cut-off dates\n",
    "\n",
    "On checks, there should not be any but this just makes sure."
   ]
  },
  {
   "cell_type": "code",
   "execution_count": null,
   "metadata": {},
   "outputs": [],
   "source": [
    "df2['date_publication_preprint_adj'] = np.where(df2.date_publication_preprint > results_cutoff, pd.NaT, df2.date_publication_preprint)\n",
    "df2['date_publication_preprint_adj'] = pd.to_datetime(df2['date_publication_preprint_adj'])"
   ]
  },
  {
   "cell_type": "code",
   "execution_count": null,
   "metadata": {},
   "outputs": [],
   "source": [
    "df2['date_publication_article_adj'] = np.where(df2.date_publication_article > results_cutoff, pd.NaT, df2.date_publication_article)\n",
    "df2['date_publication_article_adj'] = pd.to_datetime(df2['date_publication_article_adj'])"
   ]
  },
  {
   "cell_type": "code",
   "execution_count": null,
   "metadata": {},
   "outputs": [],
   "source": [
    "df2['date_publication_summary_adj'] = np.where(df2.date_publication_summary > results_cutoff, pd.NaT, df2.date_publication_summary)\n",
    "df2['date_publication_summary_adj'] = pd.to_datetime(df2['date_publication_summary_adj'])"
   ]
  },
  {
   "cell_type": "markdown",
   "metadata": {},
   "source": [
    "# Then we need to re-create the other columns from that adjusted data"
   ]
  },
  {
   "cell_type": "code",
   "execution_count": null,
   "metadata": {},
   "outputs": [],
   "source": [
    "#Reporting variables\n",
    "df2['publication_preprint_adj'] = np.where(df2['date_publication_preprint_adj'].notnull(), True, False)\n",
    "df2['publication_article_adj'] = np.where(df2['date_publication_article_adj'].notnull(), True, False)\n",
    "df2['publication_summary_adj'] = np.where(df2['date_publication_summary_adj'].notnull(), True, False)\n",
    "df2['publication_any_adj'] = np.where(df2['publication_preprint_adj'] | df2['publication_article_adj'] | df2['publication_summary_adj'], True, False)"
   ]
  },
  {
   "cell_type": "code",
   "execution_count": null,
   "metadata": {},
   "outputs": [],
   "source": [
    "#Time to reporting by route\n",
    "df2['time_publication_preprint_adj'] = np.where(df2.publication_preprint_adj, \n",
    "                                                (df2.date_publication_preprint_adj - df2.date_completion) / pd.Timedelta('1 day'),\n",
    "                                                (results_cutoff - df2.date_completion) / pd.Timedelta('1 day'))\n",
    "\n",
    "df2['time_publication_article_adj'] = np.where(df2.publication_article_adj, \n",
    "                                                (df2.date_publication_article_adj - df2.date_completion) / pd.Timedelta('1 day'),\n",
    "                                                (results_cutoff - df2.date_completion) / pd.Timedelta('1 day'))\n",
    "\n",
    "df2['time_publication_summary_adj'] = np.where(df2.publication_summary_adj, \n",
    "                                                (df2.date_publication_summary_adj - df2.date_completion) / pd.Timedelta('1 day'),\n",
    "                                                (results_cutoff - df2.date_completion) / pd.Timedelta('1 day'))"
   ]
  },
  {
   "cell_type": "code",
   "execution_count": null,
   "metadata": {},
   "outputs": [],
   "source": [
    "#Time to reporting any\n",
    "\n",
    "df2['time_reporting_any_adj'] = df2[['time_publication_preprint_adj', 'time_publication_article_adj', 'time_publication_summary_adj']].min(axis=1)"
   ]
  },
  {
   "cell_type": "markdown",
   "metadata": {},
   "source": [
    "# Overall Reporting Rate"
   ]
  },
  {
   "cell_type": "code",
   "execution_count": null,
   "metadata": {},
   "outputs": [],
   "source": [
    "overall_cols = ['id', 'trn', 'date_completion', 'date_publication_preprint_adj', 'date_publication_article_adj', \n",
    "                'date_publication_summary_adj', 'publication_preprint_adj', 'publication_article_adj', \n",
    "                'publication_summary_adj', 'publication_any_adj', 'time_publication_preprint_adj', \n",
    "                'time_publication_article_adj','time_publication_summary_adj', 'time_reporting_any_adj']"
   ]
  },
  {
   "cell_type": "code",
   "execution_count": null,
   "metadata": {},
   "outputs": [],
   "source": [
    "adjusted_data = df2[overall_cols].reset_index(drop=True)"
   ]
  },
  {
   "cell_type": "code",
   "execution_count": null,
   "metadata": {},
   "outputs": [],
   "source": [
    "adjusted_data['preprint_to_jounral'] = (adjusted_data.date_publication_article_adj - adjusted_data.date_publication_preprint_adj) / pd.Timedelta('1 day')"
   ]
  },
  {
   "cell_type": "code",
   "execution_count": null,
   "metadata": {},
   "outputs": [],
   "source": [
    "adjusted_data[(adjusted_data.preprint_to_jounral <= 0)]"
   ]
  },
  {
   "cell_type": "code",
   "execution_count": null,
   "metadata": {},
   "outputs": [],
   "source": [
    "adjusted_data[(adjusted_data.publication_preprint_adj == True) & \n",
    "              (adjusted_data.publication_article_adj == True) & \n",
    "              (adjusted_data.preprint_to_jounral >= 0)]['preprint_to_jounral'].describe()"
   ]
  },
  {
   "cell_type": "markdown",
   "metadata": {
    "tags": []
   },
   "source": [
    "# Data Handling for A-J curves for time to preprint with article pub as a competing risk"
   ]
  },
  {
   "cell_type": "code",
   "execution_count": null,
   "metadata": {},
   "outputs": [],
   "source": [
    "competing_risks = df2[['id', \n",
    "                      'date_completion', \n",
    "                      'date_publication_article_adj', \n",
    "                      'date_publication_preprint_adj', \n",
    "                      'time_publication_article_adj', \n",
    "                      'time_publication_preprint_adj']].reset_index(drop=True)"
   ]
  },
  {
   "cell_type": "code",
   "execution_count": null,
   "metadata": {},
   "outputs": [],
   "source": [
    "cr_conds = [\n",
    "    competing_risks.time_publication_preprint_adj <= competing_risks.time_publication_article_adj,\n",
    "    (competing_risks.date_publication_article_adj.notnull() & competing_risks.date_publication_preprint_adj.isna())]\n",
    "\n",
    "cr_out = [competing_risks.time_publication_preprint_adj, competing_risks.time_publication_article_adj]\n",
    "\n",
    "competing_risks['time_cr'] = np.select(cr_conds, cr_out)\n",
    "\n",
    "cr_event_conds = [\n",
    "    competing_risks.date_publication_preprint_adj.notnull(),\n",
    "    competing_risks.date_publication_preprint_adj.isna() & competing_risks.date_publication_article_adj.notnull(),\n",
    "    competing_risks.date_publication_preprint_adj.isna() & competing_risks.date_publication_article_adj.isna()]\n",
    "\n",
    "cr_event_out = [1, 2, 0]\n",
    "\n",
    "competing_risks['event_cr'] = np.select(cr_event_conds, cr_event_out)\n",
    "competing_risks['time_cr'] = np.where(competing_risks['time_cr'] < 0, 0, competing_risks['time_cr'])"
   ]
  },
  {
   "cell_type": "code",
   "execution_count": null,
   "metadata": {},
   "outputs": [],
   "source": [
    "d = competing_risks[['time_cr', 'event_cr']].reset_index(drop=True)\n",
    "d = d.set_index('time_cr')"
   ]
  },
  {
   "cell_type": "code",
   "execution_count": null,
   "metadata": {},
   "outputs": [],
   "source": [
    "aj = AalenJohansenFitter(seed=5236)\n",
    "\n",
    "#This just hides the warning that data is randomly \"jiggered\" to break ties, which is fine.\n",
    "#The seed for this is set above\n",
    "with warnings.catch_warnings():\n",
    "    warnings.simplefilter('ignore')\n",
    "    aj.fit(competing_risks.time_cr, competing_risks.event_cr, event_of_interest=1)"
   ]
  },
  {
   "cell_type": "code",
   "execution_count": null,
   "metadata": {},
   "outputs": [],
   "source": [
    "aj_corrected = aj.cumulative_density_.reset_index()\n",
    "aj_corrected = aj_corrected.set_index(aj_corrected.event_at.apply(round)).drop('event_at', axis=1)"
   ]
  },
  {
   "cell_type": "code",
   "execution_count": null,
   "metadata": {},
   "outputs": [],
   "source": [
    "aj_corrected.loc[200]"
   ]
  },
  {
   "cell_type": "code",
   "execution_count": null,
   "metadata": {},
   "outputs": [],
   "source": [
    "d = aj_corrected.merge(d, how='outer', left_index=True, right_index=True)\n",
    "d = d.loc[d['event_cr'] == 0].copy()"
   ]
  },
  {
   "cell_type": "markdown",
   "metadata": {
    "tags": []
   },
   "source": [
    "# Any Publication"
   ]
  },
  {
   "cell_type": "code",
   "execution_count": null,
   "metadata": {},
   "outputs": [],
   "source": [
    "any_pub = df2[['publication_any_adj', 'time_reporting_any_adj']].reset_index(drop=True)\n",
    "any_pub['publication_any_adj'] = any_pub['publication_any_adj'].astype(int)\n",
    "any_pub['time_reporting_any_adj'] = np.where(any_pub['time_reporting_any_adj'] < 0, 0, any_pub['time_reporting_any_adj'])"
   ]
  },
  {
   "cell_type": "code",
   "execution_count": null,
   "metadata": {},
   "outputs": [],
   "source": [
    "yticks = list(np.arange(0,1.05,.05))\n",
    "fig = plt.figure(figsize = (10,10), dpi=300)\n",
    "ax = plt.subplot()\n",
    "\n",
    "T = any_pub.time_reporting_any_adj\n",
    "E = any_pub.publication_any_adj\n",
    "\n",
    "kmf_any = KaplanMeierFitter()\n",
    "kmf_any.fit(T, E)\n",
    "#ax = kmf_any.plot(ci_show=False, show_censors=True, censor_styles={'ms':10, 'marker':'|'}, yticks=yticks, figsize=(15, 10), grid=True, legend=False, ax=ax, lw=2.5)\n",
    "ax = kmf_any.plot_cumulative_density(ci_show=False, show_censors=True, censor_styles={'ms':10, 'marker':'|'}, \n",
    "                                     yticks=yticks, figsize=(15, 10), grid=True, legend=False, ax=ax, lw=3, color='#377eb8')\n",
    "\n",
    "ax.set_ylim([0, 1])\n",
    "\n",
    "#plt.title(\"Time To Results Dissemination From Trial Completion\", pad=20, fontsize=20)\n",
    "plt.ylabel('Proportion Reported', labelpad=10, fontsize=14)\n",
    "plt.xlabel('Days to Any Result from Registered Completion Date', labelpad=10, fontsize=14)\n",
    "\n",
    "from lifelines.plotting import add_at_risk_counts\n",
    "add_at_risk_counts(kmf_any, rows_to_show = ['At risk'], ax=ax)\n",
    "plt.tight_layout()"
   ]
  },
  {
   "cell_type": "code",
   "execution_count": null,
   "metadata": {},
   "outputs": [],
   "source": [
    "#These are the KM values\n",
    "any_df = kmf_any.survival_function_\n",
    "any_df['ci_values'] = 1-any_df.KM_estimate\n",
    "any_df.loc[100]"
   ]
  },
  {
   "cell_type": "code",
   "execution_count": null,
   "metadata": {},
   "outputs": [],
   "source": [
    "#fig.savefig('Figures/time_any_pub.png')"
   ]
  },
  {
   "cell_type": "markdown",
   "metadata": {},
   "source": [
    "# Article Publication"
   ]
  },
  {
   "cell_type": "code",
   "execution_count": null,
   "metadata": {},
   "outputs": [],
   "source": [
    "article_pub = df2[['publication_article_adj', 'time_publication_article_adj']].reset_index(drop=True)\n",
    "article_pub['publication_article_adj'] = article_pub['publication_article_adj'].astype(int)\n",
    "article_pub['time_publication_article_adj'] = np.where(article_pub['time_publication_article_adj'] < 0, 0, article_pub['time_publication_article_adj'])"
   ]
  },
  {
   "cell_type": "code",
   "execution_count": null,
   "metadata": {},
   "outputs": [],
   "source": [
    "yticks = list(np.arange(0,1.05,.05))\n",
    "fig = plt.figure(dpi=300)\n",
    "ax = plt.subplot()\n",
    "\n",
    "T_art = article_pub.time_publication_article_adj\n",
    "E_art = article_pub.publication_article_adj\n",
    "\n",
    "kmf_article = KaplanMeierFitter()\n",
    "kmf_article.fit(T_art, E_art)\n",
    "#ax = kmf_any.plot(ci_show=False, show_censors=True, censor_styles={'ms':10, 'marker':'|'}, yticks=yticks, figsize=(15, 10), grid=True, legend=False, ax=ax, lw=2.5)\n",
    "ax = kmf_article.plot_cumulative_density(ci_show=False, show_censors=True, censor_styles={'ms':10, 'marker':'|'}, \n",
    "                                     yticks=yticks, figsize=(15, 10), grid=True, legend=False, ax=ax, lw=3, color='#377eb8')\n",
    "\n",
    "ax.set_ylim([0, 1])\n",
    "\n",
    "#plt.title(\"Time To Journal Publication From Trial Completion\", pad=20, fontsize=20)\n",
    "plt.ylabel('Proportion Reported', labelpad=10, fontsize=14)\n",
    "plt.xlabel('Days to Journal Publication from Registered Completion Date', labelpad=10, fontsize=14)\n",
    "\n",
    "add_at_risk_counts(kmf_article, rows_to_show = ['At risk'], ax=ax)\n",
    "plt.tight_layout()"
   ]
  },
  {
   "cell_type": "code",
   "execution_count": null,
   "metadata": {},
   "outputs": [],
   "source": [
    "#These are the KM values\n",
    "j_df = kmf_article.survival_function_\n",
    "j_df['ci_values'] = 1-j_df.KM_estimate\n",
    "j_df.loc[299]"
   ]
  },
  {
   "cell_type": "code",
   "execution_count": null,
   "metadata": {},
   "outputs": [],
   "source": [
    "#fig.savefig('Figures/time_to_journal.png')"
   ]
  },
  {
   "cell_type": "markdown",
   "metadata": {},
   "source": [
    "# Time to Preprint Publication (with article pub as competing risk)"
   ]
  },
  {
   "cell_type": "code",
   "execution_count": null,
   "metadata": {},
   "outputs": [],
   "source": [
    "yticks = list(np.arange(0,1.05,.05))\n",
    "fig = plt.figure(dpi=300)\n",
    "ax = plt.subplot()\n",
    "\n",
    "aj = AalenJohansenFitter(seed=10)\n",
    "\n",
    "with warnings.catch_warnings():\n",
    "    warnings.simplefilter('ignore')\n",
    "    aj.fit(competing_risks.time_cr, competing_risks.event_cr, event_of_interest=1)\n",
    "aj.plot(yticks=yticks, figsize=(15,10), lw=3, legend=None, grid=True, ci_show=False, color= '#377eb8')\n",
    "plt.plot(d.index, d['CIF_1'], '|', markersize=10, color='C0')\n",
    "\n",
    "#plt.title('Time to Preprint Publication from Trial Completion', pad=15, fontsize=20)\n",
    "plt.ylabel('Proportion Reported', labelpad=10, fontsize=15)\n",
    "plt.xlabel('Days to Preprint Publication from Registered Completion Date', labelpad=10, fontsize=12)\n",
    "\n",
    "ax.set_ylim([0, 1])\n",
    "\n",
    "from lifelines.plotting import add_at_risk_counts\n",
    "add_at_risk_counts(aj, rows_to_show = ['At risk'])\n",
    "plt.tight_layout()\n",
    "plt.show()"
   ]
  },
  {
   "cell_type": "code",
   "execution_count": null,
   "metadata": {},
   "outputs": [],
   "source": [
    "#fig.savefig('Figures/time_to_preprint_aj.png')"
   ]
  },
  {
   "cell_type": "markdown",
   "metadata": {},
   "source": [
    "# Registrations with only mature results registries"
   ]
  },
  {
   "cell_type": "code",
   "execution_count": null,
   "metadata": {},
   "outputs": [],
   "source": [
    "reg_pub2 = df2[['id', 'trn', 'publication_summary_adj', 'time_publication_summary_adj']][(df2.trn.astype(str).str.contains('NCT')) | (df2.trn.astype(str).str.contains('EUCTR')) | (df2.trn.astype(str).str.contains('ISRCTN'))].reset_index(drop=True)\n",
    "reg_pub2['publication_summary_adj'] = reg_pub2['publication_summary_adj'].astype(int)\n",
    "reg_pub2['time_publication_summary_adj'] = np.where(reg_pub2['time_publication_summary_adj'] < 0, 0, reg_pub2['time_publication_summary_adj'])"
   ]
  },
  {
   "cell_type": "code",
   "execution_count": null,
   "metadata": {},
   "outputs": [],
   "source": [
    "yticks = list(np.arange(0,1.05,.05))\n",
    "fig = plt.figure(dpi=300)\n",
    "ax = plt.subplot()\n",
    "\n",
    "T_mag_reg = reg_pub2.time_publication_summary_adj\n",
    "E_mag_reg = reg_pub2.publication_summary_adj\n",
    "\n",
    "kmf_reg2 = KaplanMeierFitter()\n",
    "kmf_reg2.fit(T_mag_reg, E_mag_reg)\n",
    "#ax = kmf_any.plot(ci_show=False, show_censors=True, censor_styles={'ms':10, 'marker':'|'}, yticks=yticks, figsize=(15, 10), grid=True, legend=False, ax=ax, lw=2.5)\n",
    "ax = kmf_reg2.plot_cumulative_density(ci_show=False, show_censors=True, censor_styles={'ms':10, 'marker':'|'}, \n",
    "                                     yticks=yticks, figsize=(15, 10), grid=True, legend=False, ax=ax, lw=3, color='#377eb8')\n",
    "\n",
    "ax.set_ylim([0, 1])\n",
    "\n",
    "#plt.title(\"Time To Registry Results From Trial Completion (EUCTR, CTG, ISRCTN)\", pad=20, fontsize=20)\n",
    "plt.ylabel('Proportion Reported', labelpad=10, fontsize=14)\n",
    "plt.xlabel('Days to Registry Results from Registered Completion Date', labelpad=10, fontsize=14)\n",
    "\n",
    "add_at_risk_counts(kmf_reg2, rows_to_show = ['At risk'], ax=ax)\n",
    "plt.tight_layout()"
   ]
  },
  {
   "cell_type": "code",
   "execution_count": null,
   "metadata": {},
   "outputs": [],
   "source": [
    "#These are the KM values\n",
    "reg2_df = kmf_reg2.survival_function_\n",
    "reg2_df['ci_values'] = 1-reg2_df.KM_estimate\n",
    "reg2_df.loc[365]"
   ]
  },
  {
   "cell_type": "code",
   "execution_count": null,
   "metadata": {},
   "outputs": [],
   "source": [
    "#fig.savefig('Figures/registry_eu_ctg_isrctn_reporting.png')"
   ]
  },
  {
   "cell_type": "markdown",
   "metadata": {},
   "source": [
    "# Registry results (All Registries)\n",
    "-We restrict this only to registrations on registries that can accept registry results"
   ]
  },
  {
   "cell_type": "code",
   "execution_count": null,
   "metadata": {},
   "outputs": [],
   "source": [
    "reg_pub = df2[['publication_summary_adj', 'time_publication_summary_adj']].reset_index(drop=True)\n",
    "reg_pub['publication_summary_adj'] = reg_pub['publication_summary_adj'].astype(int)\n",
    "reg_pub['time_publication_summary_adj'] = np.where(reg_pub['time_publication_summary_adj'] < 0, 0, reg_pub['time_publication_summary_adj'])"
   ]
  },
  {
   "cell_type": "code",
   "execution_count": null,
   "metadata": {},
   "outputs": [],
   "source": [
    "yticks = list(np.arange(0,1.05,.05))\n",
    "fig = plt.figure(dpi=300)\n",
    "ax = plt.subplot()\n",
    "\n",
    "T_reg = reg_pub.time_publication_summary_adj\n",
    "E_reg = reg_pub.publication_summary_adj\n",
    "\n",
    "kmf_article = KaplanMeierFitter()\n",
    "kmf_article.fit(T_reg, E_reg)\n",
    "#ax = kmf_any.plot(ci_show=False, show_censors=True, censor_styles={'ms':10, 'marker':'|'}, yticks=yticks, figsize=(15, 10), grid=True, legend=False, ax=ax, lw=2.5)\n",
    "ax = kmf_article.plot_cumulative_density(ci_show=False, show_censors=True, censor_styles={'ms':10, 'marker':'|'}, \n",
    "                                     yticks=yticks, figsize=(15, 10), grid=True, legend=False, ax=ax, lw=3, color='#377eb8')\n",
    "\n",
    "ax.set_ylim([0, 1])\n",
    "\n",
    "#plt.title(\"Time To Registry Results From Trial Completion\", pad=20, fontsize=20)\n",
    "plt.ylabel('Proportion Reported', labelpad=10, fontsize=14)\n",
    "plt.xlabel('Days to Registry Results from Registered Completion Date', labelpad=10, fontsize=14)\n",
    "\n",
    "add_at_risk_counts(kmf_article, rows_to_show = ['At risk'], ax=ax)\n",
    "plt.tight_layout()"
   ]
  },
  {
   "cell_type": "code",
   "execution_count": null,
   "metadata": {},
   "outputs": [],
   "source": [
    "#fig.savefig('Figures/all_registries.png')"
   ]
  },
  {
   "cell_type": "markdown",
   "metadata": {},
   "source": [
    "# Venn"
   ]
  },
  {
   "cell_type": "code",
   "execution_count": null,
   "metadata": {},
   "outputs": [],
   "source": [
    "venn_data = df2[['publication_preprint_adj', 'publication_article_adj', 'publication_summary_adj']].reset_index(drop=True)"
   ]
  },
  {
   "cell_type": "code",
   "execution_count": null,
   "metadata": {},
   "outputs": [],
   "source": [
    "prep = venn_data.publication_preprint_adj == True\n",
    "art = venn_data.publication_article_adj == True\n",
    "reg = venn_data.publication_summary_adj == True"
   ]
  },
  {
   "cell_type": "code",
   "execution_count": null,
   "metadata": {
    "lines_to_next_cell": 2
   },
   "outputs": [],
   "source": [
    "colors = ['#377eb8', '#ff7f00', '#4daf4a','#f781bf', '#a65628', '#984ea3', '#999999', '#e41a1c', '#dede00']\n",
    "labels = ['Journal Articles', 'Registry Results', 'Preprints']\n",
    "\n",
    "#Order of values: J, R, J+R, P, P+J, R+P, J+R+P\n",
    "\n",
    "values = (len(venn_data[art & ~prep & ~reg]), \n",
    "          len(venn_data[~art & ~prep & reg]), \n",
    "          len(venn_data[art & ~prep & reg]), \n",
    "          len(venn_data[~art & prep & ~reg]), \n",
    "          len(venn_data[art & prep & ~reg]), \n",
    "          len(venn_data[~art & prep & reg]), \n",
    "          len(venn_data[art & prep & reg]))"
   ]
  },
  {
   "cell_type": "code",
   "execution_count": null,
   "metadata": {
    "lines_to_next_cell": 0
   },
   "outputs": [],
   "source": [
    "plt.figure(figsize=(8,8), dpi=300)\n",
    "v1 = venn3(\n",
    "    subsets = values, \n",
    "    set_labels = labels,\n",
    "    set_colors = colors, \n",
    "    subset_label_formatter = lambda x: str(x) + \"\\n(\" + f\"{(x/sum(values)):1.2%}\" + \")\", \n",
    "    alpha = .6)\n",
    "\n",
    "for text in v1.set_labels:\n",
    "    text.set_fontsize(10)\n",
    "\n",
    "for text in v1.subset_labels:\n",
    "    if text == v1.subset_labels[-2]:\n",
    "        text.set_fontsize(5)\n",
    "    else:\n",
    "        text.set_fontsize(8)\n",
    "\n",
    "#Journal Only\n",
    "v1.get_label_by_id(\"100\").set_x(-0.2)\n",
    "#All\n",
    "v1.get_label_by_id(\"111\").set_x(.2)\n",
    "v1.get_label_by_id(\"111\").set_y(.05)\n",
    "#Registry + preprint\n",
    "v1.get_label_by_id(\"011\").set_y(-.02)\n",
    "v1.get_label_by_id(\"011\").set_x(.36)\n",
    "#Registry Only\n",
    "v1.get_label_by_id(\"010\").set_x(.43)\n",
    "v1.get_label_by_id(\"010\").set_y(.18)\n",
    "\n",
    "venn3_circles(values)\n",
    "#plt.title('COVID-19 Clinical Trial Results by Dissemination Route', fontweight='bold')\n",
    "#plt.savefig('Figures/reporting_venn.png')\n",
    "plt.show()"
   ]
  },
  {
   "cell_type": "markdown",
   "metadata": {
    "tags": []
   },
   "source": [
    "# Breaking Pandemic into Phases"
   ]
  },
  {
   "cell_type": "code",
   "execution_count": null,
   "metadata": {},
   "outputs": [],
   "source": [
    "phase_1 = pd.to_datetime('2020-06-30')\n",
    "phase_2 = pd.to_datetime('2020-12-31')\n",
    "phase_3 = pd.to_datetime('2021-06-30')\n",
    "\n",
    "\n",
    "date_conds = [(df2.date_completion <= phase_1), \n",
    "              (df2.date_completion > phase_1) & (df2.date_completion <= phase_2),\n",
    "              (df2.date_completion > phase_2) & (df2.date_completion <= phase_3)]\n",
    "\n",
    "date_out = [1,2,3]\n",
    "\n",
    "df2['pandemic_phase'] = np.select(date_conds, date_out)"
   ]
  },
  {
   "cell_type": "code",
   "execution_count": null,
   "metadata": {},
   "outputs": [],
   "source": [
    "phase_pub = df2[['publication_any_adj', 'time_reporting_any_adj', 'pandemic_phase']].reset_index(drop=True)\n",
    "phase_pub['publication_any_adj'] = phase_pub['publication_any_adj'].astype(int)\n",
    "phase_pub['time_reporting_any_adj'] = np.where(phase_pub['time_reporting_any_adj'] < 0, 0, phase_pub['time_reporting_any_adj'])"
   ]
  },
  {
   "cell_type": "code",
   "execution_count": null,
   "metadata": {},
   "outputs": [],
   "source": [
    "yticks = list(np.arange(0,1.05,.05))\n",
    "fig = plt.figure(dpi=300)\n",
    "ax = plt.subplot()\n",
    "\n",
    "T1 = phase_pub[phase_pub.pandemic_phase == 1].time_reporting_any_adj\n",
    "E1 = phase_pub[phase_pub.pandemic_phase == 1].publication_any_adj\n",
    "\n",
    "kmf_1 = KaplanMeierFitter()\n",
    "kmf_1.fit(T1, E1, label='1-6 Months')\n",
    "#ax = kmf_any.plot(ci_show=False, show_censors=True, censor_styles={'ms':10, 'marker':'|'}, yticks=yticks, figsize=(15, 10), grid=True, legend=False, ax=ax, lw=2.5)\n",
    "ax = kmf_1.plot_cumulative_density(ci_show=False, show_censors=True, censor_styles={'ms':10, 'marker':'|'}, \n",
    "                                     yticks=yticks, figsize=(15, 10), grid=True, legend=True, ax=ax, lw=2.5, \n",
    "                                   color='#377eb8')\n",
    "\n",
    "T2 = phase_pub[phase_pub.pandemic_phase == 2].time_reporting_any_adj\n",
    "E2 = phase_pub[phase_pub.pandemic_phase == 2].publication_any_adj\n",
    "\n",
    "kmf_2 = KaplanMeierFitter()\n",
    "kmf_2.fit(T2, E2, label='7-12 Months')\n",
    "#ax = kmf_any.plot(ci_show=False, show_censors=True, censor_styles={'ms':10, 'marker':'|'}, yticks=yticks, figsize=(15, 10), grid=True, legend=False, ax=ax, lw=2.5)\n",
    "ax = kmf_2.plot_cumulative_density(ci_show=False, show_censors=False, censor_styles={'ms':10, 'marker':'|'}, \n",
    "                                     yticks=yticks, figsize=(15, 10), grid=True, legend=True, ax=ax, lw=2.5, \n",
    "                                   color='#ff7f00')\n",
    "\n",
    "\n",
    "T3 = phase_pub[phase_pub.pandemic_phase == 3].time_reporting_any_adj\n",
    "E3 = phase_pub[phase_pub.pandemic_phase == 3].publication_any_adj\n",
    "\n",
    "kmf_3 = KaplanMeierFitter()\n",
    "kmf_3.fit(T3, E3, label='13-18 Months')\n",
    "#ax = kmf_any.plot(ci_show=False, show_censors=True, censor_styles={'ms':10, 'marker':'|'}, yticks=yticks, figsize=(15, 10), grid=True, legend=False, ax=ax, lw=2.5)\n",
    "ax = kmf_3.plot_cumulative_density(ci_show=False, show_censors=True, censor_styles={'ms':10, 'marker':'|'}, \n",
    "                                     yticks=yticks, figsize=(15, 10), grid=True, legend=True, ax=ax, lw=2.5, \n",
    "                                   color='#4daf4a')\n",
    "\n",
    "ax.set_ylim([0, 1])\n",
    "\n",
    "#plt.title(\"Time To Results Dissemination by Timing of Completion\", pad=20, fontsize=20)\n",
    "plt.ylabel('Proportion Reported', labelpad=10, fontsize=14)\n",
    "plt.xlabel('Days to Any Result from Registered Completion Date', labelpad=10, fontsize=14)\n",
    "ax.legend(fontsize = 18)\n",
    "\n",
    "from lifelines.plotting import add_at_risk_counts\n",
    "add_at_risk_counts(kmf_1, kmf_2, kmf_3, rows_to_show = ['At risk'], ax=ax)\n",
    "plt.tight_layout()"
   ]
  },
  {
   "cell_type": "code",
   "execution_count": null,
   "metadata": {},
   "outputs": [],
   "source": [
    "#fig.savefig('Figures/pandemic_phase_reporting.png')"
   ]
  },
  {
   "cell_type": "code",
   "execution_count": null,
   "metadata": {},
   "outputs": [],
   "source": [
    "#These are the KM values\n",
    "fu1_df = kmf_1.survival_function_\n",
    "fu1_df['ci_values'] = 1-fu1_df['1-6 Months']\n",
    "fu1_df.loc[195]"
   ]
  },
  {
   "cell_type": "code",
   "execution_count": null,
   "metadata": {},
   "outputs": [],
   "source": [
    "#These are the KM values\n",
    "fu2_df = kmf_2.survival_function_\n",
    "fu2_df['ci_values'] = 1-fu2_df['7-12 Months']\n",
    "fu2_df.loc[200]"
   ]
  },
  {
   "cell_type": "code",
   "execution_count": null,
   "metadata": {},
   "outputs": [],
   "source": [
    "#These are the KM values\n",
    "fu3_df = kmf_3.survival_function_\n",
    "fu3_df['ci_values'] = 1-fu3_df['13-18 Months']\n",
    "fu3_df.loc[200]"
   ]
  },
  {
   "cell_type": "markdown",
   "metadata": {
    "tags": []
   },
   "source": [
    "# Interventions"
   ]
  },
  {
   "cell_type": "code",
   "execution_count": null,
   "metadata": {},
   "outputs": [],
   "source": [
    "df_int = df2.copy()"
   ]
  },
  {
   "cell_type": "code",
   "execution_count": null,
   "metadata": {},
   "outputs": [],
   "source": [
    "top_ints = pd.read_csv(parent + '/data/interventions/top_ints.csv')\n",
    "int_mapping = pd.read_csv(parent + '/data/interventions/int_mapping.csv')"
   ]
  },
  {
   "cell_type": "code",
   "execution_count": null,
   "metadata": {},
   "outputs": [],
   "source": [
    "top_ints.head(12)"
   ]
  },
  {
   "cell_type": "code",
   "execution_count": null,
   "metadata": {},
   "outputs": [],
   "source": [
    "int_merge = df_int.merge(int_mapping, how='left', left_on='id', right_on='id').drop('Unnamed: 0', axis=1)"
   ]
  },
  {
   "cell_type": "code",
   "execution_count": null,
   "metadata": {},
   "outputs": [],
   "source": [
    "int_merge.head()"
   ]
  },
  {
   "cell_type": "code",
   "execution_count": null,
   "metadata": {},
   "outputs": [],
   "source": [
    "#Create dummies for the most common therapies\n",
    "\n",
    "common_therapies = ['Hydroxychloroquine', 'Convalescent Plasma', 'Stem Cells (Mesenchymal)', 'Ivermectin', 'Azithromycin']\n",
    "\n",
    "for ct in common_therapies:\n",
    "    int_merge[ct] = np.where(int_merge.intervention.str.contains(ct, regex=False), 1, 0)"
   ]
  },
  {
   "cell_type": "code",
   "execution_count": null,
   "metadata": {},
   "outputs": [],
   "source": [
    "int_merge['publication_any_adj'] = int_merge['publication_any_adj'].astype(int)\n",
    "int_merge['time_reporting_any_adj'] = np.where(int_merge['time_reporting_any_adj'] < 0, 0, int_merge['time_reporting_any_adj'])"
   ]
  },
  {
   "cell_type": "code",
   "execution_count": null,
   "metadata": {},
   "outputs": [],
   "source": [
    "yticks = list(np.arange(0,1.05,.05))\n",
    "fig = plt.figure(dpi=300)\n",
    "ax = plt.subplot()\n",
    "\n",
    "T_hcq = int_merge[int_merge[common_therapies[0]] == 1].time_reporting_any_adj\n",
    "E_hcq = int_merge[int_merge[common_therapies[0]] == 1].publication_any_adj\n",
    "\n",
    "kmf_hcq = KaplanMeierFitter()\n",
    "kmf_hcq.fit(T_hcq, E_hcq, label='HCQ')\n",
    "#ax = kmf_any.plot(ci_show=False, show_censors=True, censor_styles={'ms':10, 'marker':'|'}, yticks=yticks, figsize=(15, 10), grid=True, legend=False, ax=ax, lw=2.5)\n",
    "ax = kmf_hcq.plot_cumulative_density(ci_show=False, show_censors=True, censor_styles={'ms':10, 'marker':'|'}, \n",
    "                                     yticks=yticks, figsize=(15, 10), grid=True, legend=True, ax=ax, lw=2.5, \n",
    "                                   color='#377eb8')\n",
    "\n",
    "T_cp = int_merge[int_merge[common_therapies[1]] == 1].time_reporting_any_adj\n",
    "E_cp = int_merge[int_merge[common_therapies[1]] == 1].publication_any_adj\n",
    "\n",
    "kmf_cp = KaplanMeierFitter()\n",
    "kmf_cp.fit(T_cp, E_cp, label='Con. Plasma')\n",
    "#ax = kmf_any.plot(ci_show=False, show_censors=True, censor_styles={'ms':10, 'marker':'|'}, yticks=yticks, figsize=(15, 10), grid=True, legend=False, ax=ax, lw=2.5)\n",
    "ax = kmf_cp.plot_cumulative_density(ci_show=False, show_censors=True, censor_styles={'ms':10, 'marker':'|'}, \n",
    "                                     yticks=yticks, figsize=(15, 10), grid=True, legend=True, ax=ax, lw=2.5, \n",
    "                                   color='#ff7f00')\n",
    "\n",
    "T_scm = int_merge[int_merge[common_therapies[2]] == 1].time_reporting_any_adj\n",
    "E_scm = int_merge[int_merge[common_therapies[2]] == 1].publication_any_adj\n",
    "\n",
    "kmf_scm = KaplanMeierFitter()\n",
    "kmf_scm.fit(T_scm, E_scm, label='Stem Cells')\n",
    "#ax = kmf_any.plot(ci_show=False, show_censors=True, censor_styles={'ms':10, 'marker':'|'}, yticks=yticks, figsize=(15, 10), grid=True, legend=False, ax=ax, lw=2.5)\n",
    "ax = kmf_scm.plot_cumulative_density(ci_show=False, show_censors=True, censor_styles={'ms':10, 'marker':'|'}, \n",
    "                                     yticks=yticks, figsize=(15, 10), grid=True, legend=True, ax=ax, lw=2.5, \n",
    "                                   color='#4daf4a')\n",
    "\n",
    "\n",
    "T_ive = int_merge[int_merge[common_therapies[3]] == 1].time_reporting_any_adj\n",
    "E_ive = int_merge[int_merge[common_therapies[3]] == 1].publication_any_adj\n",
    "\n",
    "kmf_ive = KaplanMeierFitter()\n",
    "kmf_ive.fit(T_ive, E_ive, label='Ivermectin')\n",
    "#ax = kmf_any.plot(ci_show=False, show_censors=True, censor_styles={'ms':10, 'marker':'|'}, yticks=yticks, figsize=(15, 10), grid=True, legend=False, ax=ax, lw=2.5)\n",
    "ax = kmf_ive.plot_cumulative_density(ci_show=False, show_censors=True, censor_styles={'ms':10, 'marker':'|'}, \n",
    "                                     yticks=yticks, figsize=(15, 10), grid=True, legend=True, ax=ax, lw=2.5, \n",
    "                                   color='#f781bf')\n",
    "\n",
    "T_azm = int_merge[int_merge[common_therapies[4]] == 1].time_reporting_any_adj\n",
    "E_azm = int_merge[int_merge[common_therapies[4]] == 1].publication_any_adj\n",
    "\n",
    "kmf_azm = KaplanMeierFitter()\n",
    "kmf_azm.fit(T_azm, E_azm, label='Azithromycin')\n",
    "#ax = kmf_any.plot(ci_show=False, show_censors=True, censor_styles={'ms':10, 'marker':'|'}, yticks=yticks, figsize=(15, 10), grid=True, legend=False, ax=ax, lw=2.5)\n",
    "ax = kmf_azm.plot_cumulative_density(ci_show=False, show_censors=True, censor_styles={'ms':10, 'marker':'|'}, \n",
    "                                     yticks=yticks, figsize=(15, 10), grid=True, legend=True, ax=ax, lw=2.5, \n",
    "                                   color='#a65628')\n",
    "\n",
    "\n",
    "T_other = int_merge[int_merge[common_therapies].sum(axis=1) == 0].time_reporting_any_adj\n",
    "E_other = int_merge[int_merge[common_therapies].sum(axis=1) == 0].publication_any_adj\n",
    "\n",
    "kmf_any_comp = KaplanMeierFitter()\n",
    "kmf_any_comp.fit(T_other, E_other, label='All Other Trials')\n",
    "#ax = kmf_any.plot(ci_show=False, show_censors=True, censor_styles={'ms':10, 'marker':'|'}, yticks=yticks, figsize=(15, 10), grid=True, legend=False, ax=ax, lw=2.5)\n",
    "ax = kmf_any_comp.plot_cumulative_density(ci_show=False, show_censors=True, censor_styles={'ms':10, 'marker':'|', 'alpha':.4}, \n",
    "                                     yticks=yticks, figsize=(15, 10), grid=True, legend=False, ax=ax, lw=4, \n",
    "                                     color='lightsteelblue', alpha=.4)\n",
    "\n",
    "ax.set_ylim([0, 1])\n",
    "\n",
    "#plt.title(\"Time To Results Dissemination From Registered Completion Date (Common Interventions)\", pad=20, fontsize=20)\n",
    "plt.ylabel('Proportion Reported', labelpad=10, fontsize=14)\n",
    "plt.xlabel('Days to Any Result from Registered Completion Date', labelpad=10, fontsize=14)\n",
    "ax.legend(fontsize = 18)\n",
    "\n",
    "#from lifelines.plotting import add_at_risk_counts\n",
    "add_at_risk_counts(kmf_hcq, kmf_cp, kmf_scm, kmf_ive, kmf_azm, kmf_any_comp, rows_to_show = ['At risk'], ax=ax)\n",
    "plt.tight_layout()"
   ]
  },
  {
   "cell_type": "code",
   "execution_count": null,
   "metadata": {},
   "outputs": [],
   "source": [
    "#fig.savefig('Figures/intervention_reporting.png')"
   ]
  },
  {
   "cell_type": "markdown",
   "metadata": {},
   "source": [
    "# Trial Design Characteristics"
   ]
  },
  {
   "cell_type": "code",
   "execution_count": null,
   "metadata": {},
   "outputs": [],
   "source": [
    "hq_df = pd.read_csv('https://raw.githubusercontent.com/maia-sh/direcct-analysis/main/data/reporting/subgroup-analyses/kaplan-meier-minimum-standards.csv')"
   ]
  },
  {
   "cell_type": "code",
   "execution_count": null,
   "metadata": {},
   "outputs": [],
   "source": [
    "hq_df.columns"
   ]
  },
  {
   "cell_type": "code",
   "execution_count": null,
   "metadata": {},
   "outputs": [],
   "source": [
    "hq_df['publication_any_adj'] = hq_df['publication_any'].astype(int)\n",
    "hq_df['time_publication_any_adj'] = np.where(hq_df['time_publication_any'] < 0, 0, hq_df['time_publication_any'])"
   ]
  },
  {
   "cell_type": "code",
   "execution_count": null,
   "metadata": {},
   "outputs": [],
   "source": [
    "hq_ids = hq_df.id.to_list()"
   ]
  },
  {
   "cell_type": "code",
   "execution_count": null,
   "metadata": {},
   "outputs": [],
   "source": [
    "nhq = df2[~df2.id.isin(hq_ids)][['publication_any_adj', 'time_reporting_any_adj']].reset_index(drop=True)\n",
    "nhq['publication_any_adj'] = nhq['publication_any_adj'].astype(int)\n",
    "nhq['time_reporting_any_adj'] = np.where(nhq['time_reporting_any_adj'] < 0, 0, nhq['time_reporting_any_adj'])"
   ]
  },
  {
   "cell_type": "code",
   "execution_count": null,
   "metadata": {},
   "outputs": [],
   "source": [
    "yticks = list(np.arange(0,1.05,.05))\n",
    "fig = plt.figure(figsize = (10,10), dpi=300)\n",
    "ax = plt.subplot()\n",
    "\n",
    "T_hq = hq_df.time_publication_any_adj\n",
    "E_hq = hq_df.publication_any_adj\n",
    "\n",
    "kmf_hq = KaplanMeierFitter()\n",
    "kmf_hq.fit(T_hq, E_hq, label='Meets Design Standard')\n",
    "#ax = kmf_any.plot(ci_show=False, show_censors=True, censor_styles={'ms':10, 'marker':'|'}, yticks=yticks, figsize=(15, 10), grid=True, legend=False, ax=ax, lw=2.5)\n",
    "ax = kmf_hq.plot_cumulative_density(ci_show=False, show_censors=True, censor_styles={'ms':10, 'marker':'|'}, \n",
    "                                     yticks=yticks, figsize=(15, 10), grid=True, legend=False, ax=ax, lw=3, color='#377eb8')\n",
    "\n",
    "\n",
    "T_nhq = nhq.time_reporting_any_adj\n",
    "E_nhq = nhq.publication_any_adj\n",
    "\n",
    "kmf_nhq = KaplanMeierFitter()\n",
    "kmf_nhq.fit(T_nhq, E_nhq, label=\"Doesn't Meet Design Standard\")\n",
    "#ax = kmf_any.plot(ci_show=False, show_censors=True, censor_styles={'ms':10, 'marker':'|'}, yticks=yticks, figsize=(15, 10), grid=True, legend=False, ax=ax, lw=2.5)\n",
    "ax = kmf_nhq.plot_cumulative_density(ci_show=False, show_censors=True, censor_styles={'ms':10, 'marker':'|'}, \n",
    "                                     yticks=yticks, figsize=(15, 10), grid=True, legend=False, ax=ax, lw=3, color='#ff7f00')\n",
    "\n",
    "ax.set_ylim([0, 1])\n",
    "ax.legend(fontsize = 18)\n",
    "\n",
    "#plt.title(\"Time To Results Dissemination From Registered Completion Date Based on Trial Characteristics\", pad=20, fontsize=20)\n",
    "plt.ylabel('Proportion Reported', labelpad=10, fontsize=14)\n",
    "plt.xlabel('Days to Any Result from Registered Completion Date', labelpad=10, fontsize=14)\n",
    "\n",
    "from lifelines.plotting import add_at_risk_counts\n",
    "add_at_risk_counts(kmf_hq, kmf_nhq, rows_to_show = ['At risk'], ax=ax)\n",
    "plt.tight_layout()"
   ]
  },
  {
   "cell_type": "code",
   "execution_count": null,
   "metadata": {},
   "outputs": [],
   "source": [
    "#fig.savefig('Figures/design_char_reporting.png')"
   ]
  },
  {
   "cell_type": "markdown",
   "metadata": {},
   "source": [
    "# Pub to Preprint"
   ]
  },
  {
   "cell_type": "code",
   "execution_count": null,
   "metadata": {},
   "outputs": [],
   "source": [
    "pp_df = pd.read_csv('https://raw.githubusercontent.com/maia-sh/direcct-analysis/main/data/reporting/main-analyses/kaplan-meier-preprint-to-article.csv')"
   ]
  },
  {
   "cell_type": "code",
   "execution_count": null,
   "metadata": {},
   "outputs": [],
   "source": [
    "pp_df.head()"
   ]
  },
  {
   "cell_type": "code",
   "execution_count": null,
   "metadata": {},
   "outputs": [],
   "source": [
    "pp_df.time_preprint_article.max()"
   ]
  },
  {
   "cell_type": "code",
   "execution_count": null,
   "metadata": {},
   "outputs": [],
   "source": [
    "pp_df.time_preprint_article.describe()"
   ]
  },
  {
   "cell_type": "code",
   "execution_count": null,
   "metadata": {},
   "outputs": [],
   "source": [
    "yticks = list(np.arange(0,1.05,.05))\n",
    "fig = plt.figure(dpi=300)\n",
    "ax = plt.subplot()\n",
    "\n",
    "T_pub_preprint = pp_df.time_preprint_article\n",
    "E_pub_prepint = pp_df.publication_article.astype(int)\n",
    "\n",
    "kmf_pre_pub = KaplanMeierFitter()\n",
    "kmf_pre_pub.fit(T_pub_preprint, E_pub_prepint)\n",
    "ax = kmf_pre_pub.plot_cumulative_density(ci_show=False, show_censors=True, censor_styles={'ms':10, 'marker':'|'}, \n",
    "                                     yticks=yticks, figsize=(15, 10), grid=True, legend=False, ax=ax, lw=3, color='#377eb8')\n",
    "\n",
    "ax.set_ylim([0, 1])\n",
    "\n",
    "#plt.title(\"Time From Preprint to Journal Publication\", pad=20, fontsize=20)\n",
    "plt.ylabel('Proportion Converting', labelpad=10, fontsize=14)\n",
    "plt.xlabel('Days to Journal Publication from Preprint Publication', labelpad=10, fontsize=14)\n",
    "\n",
    "add_at_risk_counts(kmf_pre_pub, rows_to_show = ['At risk'], ax=ax)\n",
    "plt.tight_layout()"
   ]
  },
  {
   "cell_type": "code",
   "execution_count": null,
   "metadata": {
    "lines_to_next_cell": 0
   },
   "outputs": [],
   "source": [
    "#fig.savefig('Figures/preprint_article_pub.png')"
   ]
  },
  {
   "cell_type": "code",
   "execution_count": null,
   "metadata": {},
   "outputs": [],
   "source": [
    "#These are the KM values\n",
    "pre_pub_df = kmf_pre_pub.survival_function_\n",
    "pre_pub_df['ci_values'] = 1-pre_pub_df.KM_estimate\n",
    "pre_pub_df.loc[198]"
   ]
  },
  {
   "cell_type": "markdown",
   "metadata": {
    "tags": []
   },
   "source": [
    "# Sensitivity Analysis - Only Completed Trials"
   ]
  },
  {
   "cell_type": "code",
   "execution_count": null,
   "metadata": {},
   "outputs": [],
   "source": [
    "completed = pd.read_csv('https://raw.githubusercontent.com/maia-sh/direcct-analysis/main/data/reporting/sensitivity-analyses/kaplan-meier-time-to-pub_latest_completion_status.csv')"
   ]
  },
  {
   "cell_type": "code",
   "execution_count": null,
   "metadata": {},
   "outputs": [],
   "source": [
    "completed2 = completed[['id', 'publication_any', 'time_publication_any']].reset_index(drop=True)\n",
    "completed2['publication_any'] = completed2['publication_any'].astype(int)\n",
    "completed2['time_publication_any'] = np.where(completed2['time_publication_any'] < 0, 0, completed2['time_publication_any'])"
   ]
  },
  {
   "cell_type": "code",
   "execution_count": null,
   "metadata": {
    "lines_to_next_cell": 0
   },
   "outputs": [],
   "source": [
    "yticks = list(np.arange(0,1.05,.05))\n",
    "fig = plt.figure(dpi=300)\n",
    "ax = plt.subplot()\n",
    "\n",
    "T_comp2 = completed2.time_publication_any\n",
    "E_comp2 = completed2.publication_any\n",
    "\n",
    "kmf_comp = KaplanMeierFitter()\n",
    "kmf_comp.fit(T_comp2, E_comp2, label='Only Completed')\n",
    "#ax = kmf_any.plot(ci_show=False, show_censors=True, censor_styles={'ms':10, 'marker':'|'}, yticks=yticks, figsize=(15, 10), grid=True, legend=False, ax=ax, lw=2.5)\n",
    "ax = kmf_comp.plot_cumulative_density(ci_show=False, show_censors=True, censor_styles={'ms':10, 'marker':'|'}, \n",
    "                                     yticks=yticks, figsize=(15, 10), grid=True, legend=False, ax=ax, lw=3, color='#377eb8')\n",
    "\n",
    "\n",
    "T = any_pub.time_reporting_any_adj\n",
    "E = any_pub.publication_any_adj\n",
    "\n",
    "kmf_any2 = KaplanMeierFitter()\n",
    "kmf_any2.fit(T, E, label='Main Analysis')\n",
    "#ax = kmf_any.plot(ci_show=False, show_censors=True, censor_styles={'ms':10, 'marker':'|'}, yticks=yticks, figsize=(15, 10), grid=True, legend=False, ax=ax, lw=2.5)\n",
    "ax = kmf_any2.plot_cumulative_density(ci_show=False, show_censors=True, censor_styles={'ms':10, 'marker':'|', 'alpha':.4}, \n",
    "                                     yticks=yticks, figsize=(15, 10), grid=True, legend=False, ax=ax, lw=3, color='lightsteelblue', alpha=.4)\n",
    "\n",
    "\n",
    "\n",
    "ax.set_ylim([0, 1])\n",
    "ax.legend(fontsize = 18)\n",
    "\n",
    "#plt.title(\"Time to Any Publication for Completed Status Trials\", pad=20, fontsize=20)\n",
    "plt.ylabel('Proportion Reported', labelpad=10, fontsize=14)\n",
    "plt.xlabel('Days to Any Result from Registered Completion Date', labelpad=10, fontsize=14)\n",
    "\n",
    "add_at_risk_counts(kmf_comp, kmf_any2, rows_to_show = ['At risk'], ax=ax)\n",
    "plt.tight_layout()"
   ]
  },
  {
   "cell_type": "code",
   "execution_count": null,
   "metadata": {
    "lines_to_next_cell": 0
   },
   "outputs": [],
   "source": [
    "#fig.savefig('Figures/completed_trials_sens.png')"
   ]
  },
  {
   "cell_type": "markdown",
   "metadata": {},
   "source": [
    "# Sensitivity Analysis - Full Completion Date"
   ]
  },
  {
   "cell_type": "code",
   "execution_count": null,
   "metadata": {},
   "outputs": [],
   "source": [
    "full_comp_df = pd.read_csv('https://raw.githubusercontent.com/maia-sh/direcct-analysis/main/data/reporting/sensitivity-analyses/kaplan-meier-time-to-pub_scd.csv')"
   ]
  },
  {
   "cell_type": "code",
   "execution_count": null,
   "metadata": {},
   "outputs": [],
   "source": [
    "full_comp = full_comp_df[['id', 'publication_any', 'time_publication_any']].reset_index(drop=True)\n",
    "full_comp['publication_any'] = full_comp['publication_any'].astype(int)\n",
    "full_comp['time_publication_any'] = np.where(full_comp['time_publication_any'] < 0, 0, full_comp['time_publication_any'])"
   ]
  },
  {
   "cell_type": "code",
   "execution_count": null,
   "metadata": {},
   "outputs": [],
   "source": [
    "yticks = list(np.arange(0,1.05,.05))\n",
    "fig = plt.figure(dpi=300)\n",
    "ax = plt.subplot()\n",
    "\n",
    "T_fc = full_comp.time_publication_any\n",
    "E_fc = full_comp.publication_any\n",
    "\n",
    "kmf_fc = KaplanMeierFitter()\n",
    "kmf_fc.fit(T_fc, E_fc, label='Full Completion')\n",
    "#ax = kmf_any.plot(ci_show=False, show_censors=True, censor_styles={'ms':10, 'marker':'|'}, yticks=yticks, figsize=(15, 10), grid=True, legend=False, ax=ax, lw=2.5)\n",
    "ax = kmf_fc.plot_cumulative_density(ci_show=False, show_censors=True, censor_styles={'ms':10, 'marker':'|'}, \n",
    "                                     yticks=yticks, figsize=(15, 10), grid=True, legend=False, ax=ax, lw=3, color='#377eb8')\n",
    "\n",
    "\n",
    "T = any_pub.time_reporting_any_adj\n",
    "E = any_pub.publication_any_adj\n",
    "\n",
    "kmf_any2 = KaplanMeierFitter()\n",
    "kmf_any2.fit(T, E, label='Main Analysis')\n",
    "#ax = kmf_any.plot(ci_show=False, show_censors=True, censor_styles={'ms':10, 'marker':'|'}, yticks=yticks, figsize=(15, 10), grid=True, legend=False, ax=ax, lw=2.5)\n",
    "ax = kmf_any2.plot_cumulative_density(ci_show=False, show_censors=True, censor_styles={'ms':10, 'marker':'|', 'alpha':.4}, \n",
    "                                     yticks=yticks, figsize=(15, 10), grid=True, legend=False, ax=ax, lw=3, color='lightsteelblue', alpha=.4)\n",
    "\n",
    "\n",
    "\n",
    "ax.set_ylim([0, 1])\n",
    "ax.legend(fontsize = 18)\n",
    "\n",
    "#plt.title(\"Time to Any Publication for Only Full Study Completion Dates\", pad=20, fontsize=20)\n",
    "plt.ylabel('Proportion Reported', labelpad=10, fontsize=14)\n",
    "plt.xlabel('Days to Any Result from Registered Full Completion Date', labelpad=10, fontsize=14)\n",
    "\n",
    "add_at_risk_counts(kmf_fc, kmf_any2, rows_to_show = ['At risk'], ax=ax)\n",
    "plt.tight_layout()"
   ]
  },
  {
   "cell_type": "code",
   "execution_count": null,
   "metadata": {},
   "outputs": [],
   "source": [
    "#fig.savefig('Figures/full_complete_sens.png')"
   ]
  },
  {
   "cell_type": "markdown",
   "metadata": {
    "lines_to_next_cell": 0,
    "tags": []
   },
   "source": [
    "# Sensitivity Analysis - Interim Results"
   ]
  },
  {
   "cell_type": "code",
   "execution_count": null,
   "metadata": {},
   "outputs": [],
   "source": [
    "interim_df = pd.read_csv('https://raw.githubusercontent.com/maia-sh/direcct-analysis/main/data/reporting/main-analyses/kaplan-meier-time-to-pub.csv')"
   ]
  },
  {
   "cell_type": "code",
   "execution_count": null,
   "metadata": {},
   "outputs": [],
   "source": [
    "interim_df.columns"
   ]
  },
  {
   "cell_type": "code",
   "execution_count": null,
   "metadata": {},
   "outputs": [],
   "source": [
    "interim = interim_df[['id', 'publication_interim_any', 'time_publication_interim_any']].reset_index(drop=True)\n",
    "interim['publication_interim_any'] = interim['publication_interim_any'].astype(int)\n",
    "interim['time_publication_interim_any'] = np.where(interim['time_publication_interim_any'] < 0, 0, interim['time_publication_interim_any'])"
   ]
  },
  {
   "cell_type": "code",
   "execution_count": null,
   "metadata": {},
   "outputs": [],
   "source": [
    "yticks = list(np.arange(0,1.05,.05))\n",
    "fig = plt.figure(dpi=300)\n",
    "ax = plt.subplot()\n",
    "\n",
    "T_in = interim.time_publication_interim_any\n",
    "E_in = interim.publication_interim_any\n",
    "\n",
    "kmf_in = KaplanMeierFitter()\n",
    "kmf_in.fit(T_in, E_in, label='First Result with Interim')\n",
    "#ax = kmf_any.plot(ci_show=False, show_censors=True, censor_styles={'ms':10, 'marker':'|'}, yticks=yticks, figsize=(15, 10), grid=True, legend=False, ax=ax, lw=2.5)\n",
    "ax = kmf_in.plot_cumulative_density(ci_show=False, show_censors=True, censor_styles={'ms':10, 'marker':'|'}, \n",
    "                                     yticks=yticks, figsize=(15, 10), grid=True, legend=False, ax=ax, lw=3, color='#377eb8')\n",
    "\n",
    "\n",
    "T = any_pub.time_reporting_any_adj\n",
    "E = any_pub.publication_any_adj\n",
    "\n",
    "kmf_any2 = KaplanMeierFitter()\n",
    "kmf_any2.fit(T, E, label='Main Analysis')\n",
    "#ax = kmf_any.plot(ci_show=False, show_censors=True, censor_styles={'ms':10, 'marker':'|'}, yticks=yticks, figsize=(15, 10), grid=True, legend=False, ax=ax, lw=2.5)\n",
    "ax = kmf_any2.plot_cumulative_density(ci_show=False, show_censors=True, censor_styles={'ms':10, 'marker':'|', 'alpha':.4}, \n",
    "                                     yticks=yticks, figsize=(15, 10), grid=True, legend=False, ax=ax, lw=3, color='lightsteelblue', alpha=.4)\n",
    "\n",
    "\n",
    "\n",
    "ax.set_ylim([0, 1])\n",
    "ax.legend(fontsize = 18)\n",
    "\n",
    "#plt.title(\"Time to Any Publication Inclusive of Interim Results\", pad=20, fontsize=20)\n",
    "plt.ylabel('Proportion Reported', labelpad=10, fontsize=14)\n",
    "plt.xlabel('Days to Any Result from Registered Completion Date', labelpad=10, fontsize=14)\n",
    "\n",
    "add_at_risk_counts(kmf_in, kmf_any2, rows_to_show = ['At risk'], ax=ax)\n",
    "plt.tight_layout()"
   ]
  },
  {
   "cell_type": "code",
   "execution_count": null,
   "metadata": {
    "lines_to_next_cell": 2
   },
   "outputs": [],
   "source": [
    "#fig.savefig('Figures/interim_sens.png')"
   ]
  },
  {
   "cell_type": "markdown",
   "metadata": {},
   "source": [
    "# Sensitivity Analysis - April 2022 Update"
   ]
  },
  {
   "cell_type": "code",
   "execution_count": null,
   "metadata": {},
   "outputs": [],
   "source": [
    "apr22_df = pd.read_csv('https://raw.githubusercontent.com/maia-sh/direcct-analysis/main/data/reporting/sensitivity-analyses/kaplan-meier-time-to-pub_22.csv')"
   ]
  },
  {
   "cell_type": "code",
   "execution_count": null,
   "metadata": {},
   "outputs": [],
   "source": [
    "updated = apr22_df[['id', 'publication_any', 'time_publication_any']].reset_index(drop=True)\n",
    "updated['publication_any'] = updated['publication_any'].astype(int)\n",
    "updated['time_publication_any'] = np.where(updated['time_publication_any'] < 0, 0, updated['time_publication_any'])"
   ]
  },
  {
   "cell_type": "code",
   "execution_count": null,
   "metadata": {
    "lines_to_next_cell": 0
   },
   "outputs": [],
   "source": [
    "yticks = list(np.arange(0,1.05,.05))\n",
    "fig = plt.figure(dpi=300)\n",
    "ax = plt.subplot()\n",
    "\n",
    "T_updated = updated.time_publication_any\n",
    "E_updated = updated.publication_any\n",
    "\n",
    "kmf_up = KaplanMeierFitter()\n",
    "kmf_up.fit(T_updated, E_updated, label='April 22 Update')\n",
    "#ax = kmf_any.plot(ci_show=False, show_censors=True, censor_styles={'ms':10, 'marker':'|'}, yticks=yticks, figsize=(15, 10), grid=True, legend=False, ax=ax, lw=2.5)\n",
    "ax = kmf_up.plot_cumulative_density(ci_show=False, show_censors=True, censor_styles={'ms':10, 'marker':'|'}, \n",
    "                                     yticks=yticks, figsize=(15, 10), grid=True, legend=False, ax=ax, lw=3, color='#377eb8')\n",
    "\n",
    "\n",
    "T = any_pub.time_reporting_any_adj\n",
    "E = any_pub.publication_any_adj\n",
    "\n",
    "kmf_any2 = KaplanMeierFitter()\n",
    "kmf_any2.fit(T, E, label='Main Analysis')\n",
    "#ax = kmf_any.plot(ci_show=False, show_censors=True, censor_styles={'ms':10, 'marker':'|'}, yticks=yticks, figsize=(15, 10), grid=True, legend=False, ax=ax, lw=2.5)\n",
    "ax = kmf_any2.plot_cumulative_density(ci_show=False, show_censors=True, censor_styles={'ms':10, 'marker':'|', 'alpha':.4}, \n",
    "                                     yticks=yticks, figsize=(15, 10), grid=True, legend=False, ax=ax, lw=3, color='lightsteelblue', alpha=.4)\n",
    "\n",
    "\n",
    "\n",
    "ax.set_ylim([0, 1])\n",
    "ax.legend(fontsize = 18)\n",
    "\n",
    "#plt.title(\"Time to Any Publication (April 2022 Data Refresh)\", pad=20, fontsize=20)\n",
    "plt.ylabel('Proportion Reported', labelpad=10, fontsize=14)\n",
    "plt.xlabel('Days to Any Result from Registered Completion Date as of April 2022', labelpad=10, fontsize=14)\n",
    "\n",
    "add_at_risk_counts(kmf_up, kmf_any2, rows_to_show = ['At risk'], ax=ax)\n",
    "plt.tight_layout()"
   ]
  },
  {
   "cell_type": "code",
   "execution_count": null,
   "metadata": {
    "lines_to_next_cell": 0
   },
   "outputs": [],
   "source": [
    "#fig.savefig('Figures/apr22_sens.png')"
   ]
  },
  {
   "cell_type": "code",
   "execution_count": null,
   "metadata": {},
   "outputs": [],
   "source": []
  },
  {
   "cell_type": "code",
   "execution_count": null,
   "metadata": {},
   "outputs": [],
   "source": []
  },
  {
   "cell_type": "code",
   "execution_count": null,
   "metadata": {},
   "outputs": [],
   "source": []
  },
  {
   "cell_type": "code",
   "execution_count": null,
   "metadata": {},
   "outputs": [],
   "source": []
  },
  {
   "cell_type": "code",
   "execution_count": null,
   "metadata": {},
   "outputs": [],
   "source": []
  },
  {
   "cell_type": "code",
   "execution_count": null,
   "metadata": {
    "lines_to_next_cell": 2
   },
   "outputs": [],
   "source": []
  },
  {
   "cell_type": "code",
   "execution_count": null,
   "metadata": {},
   "outputs": [],
   "source": [
    "\n"
   ]
  }
 ],
 "metadata": {
  "jupytext": {
   "cell_metadata_filter": "all",
   "notebook_metadata_filter": "all,-language_info"
  },
  "kernelspec": {
   "display_name": "Python 3",
   "language": "python",
   "name": "python3"
  },
  "language_info": {
   "codemirror_mode": {
    "name": "ipython",
    "version": 3
   },
   "file_extension": ".py",
   "mimetype": "text/x-python",
   "name": "python",
   "nbconvert_exporter": "python",
   "pygments_lexer": "ipython3",
   "version": "3.8.1"
  }
 },
 "nbformat": 4,
 "nbformat_minor": 4
}
