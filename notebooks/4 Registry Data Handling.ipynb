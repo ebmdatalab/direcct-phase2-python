{
 "cells": [
  {
   "cell_type": "markdown",
   "metadata": {},
   "source": [
    "After running the scrapers in Notebook 3 and manually retrieving additional data from the registries from a small number of trials, we combined this data in an excel sheet `registry_data.xlsx` detailing the data collected and where it came from. This notebook will clean up this data in a way we can use to be merged into the final dataset"
   ]
  },
  {
   "cell_type": "code",
   "execution_count": 1,
   "metadata": {},
   "outputs": [],
   "source": [
    "import sys\n",
    "from pathlib import Path\n",
    "import os\n",
    "cwd = os.getcwd()\n",
    "parent = str(Path(cwd).parents[0])\n",
    "sys.path.append(parent)"
   ]
  },
  {
   "cell_type": "code",
   "execution_count": 2,
   "metadata": {},
   "outputs": [],
   "source": [
    "import pandas as pd\n",
    "import re\n",
    "import numpy as np"
   ]
  },
  {
   "cell_type": "code",
   "execution_count": 4,
   "metadata": {},
   "outputs": [],
   "source": [
    "reg = pd.read_excel(parent + '/data/registry_data/registry_data.xlsx', sheet_name='Full')\n",
    "\n",
    "ictrp = pd.read_csv(parent + '/data/cleaned_ictrp_16Dec2020.csv')"
   ]
  },
  {
   "cell_type": "code",
   "execution_count": 5,
   "metadata": {},
   "outputs": [
    {
     "data": {
      "text/plain": [
       "Index(['trial_id', 'trial_status', 'pcd', 'scd', 'reg_results_status',\n",
       "       'other_results_1', 'other_results_2'],\n",
       "      dtype='object')"
      ]
     },
     "execution_count": 5,
     "metadata": {},
     "output_type": "execute_result"
    }
   ],
   "source": [
    "reg.columns"
   ]
  },
  {
   "cell_type": "code",
   "execution_count": 6,
   "metadata": {},
   "outputs": [
    {
     "data": {
      "text/html": [
       "<div>\n",
       "<style scoped>\n",
       "    .dataframe tbody tr th:only-of-type {\n",
       "        vertical-align: middle;\n",
       "    }\n",
       "\n",
       "    .dataframe tbody tr th {\n",
       "        vertical-align: top;\n",
       "    }\n",
       "\n",
       "    .dataframe thead th {\n",
       "        text-align: right;\n",
       "    }\n",
       "</style>\n",
       "<table border=\"1\" class=\"dataframe\">\n",
       "  <thead>\n",
       "    <tr style=\"text-align: right;\">\n",
       "      <th></th>\n",
       "      <th>index</th>\n",
       "      <th>trialid</th>\n",
       "      <th>source_register</th>\n",
       "      <th>date_registration</th>\n",
       "      <th>date_enrollement</th>\n",
       "      <th>retrospective_registration</th>\n",
       "      <th>normed_spon_names</th>\n",
       "      <th>recruitment_status</th>\n",
       "      <th>phase</th>\n",
       "      <th>study_type</th>\n",
       "      <th>countries</th>\n",
       "      <th>public_title</th>\n",
       "      <th>study_category</th>\n",
       "      <th>intervention</th>\n",
       "      <th>intervention_list</th>\n",
       "      <th>target_enrollment</th>\n",
       "      <th>web_address</th>\n",
       "      <th>cross_registrations</th>\n",
       "    </tr>\n",
       "  </thead>\n",
       "  <tbody>\n",
       "    <tr>\n",
       "      <th>0</th>\n",
       "      <td>0</td>\n",
       "      <td>ISRCTN18948812</td>\n",
       "      <td>ISRCTN</td>\n",
       "      <td>2014-04-09</td>\n",
       "      <td>2014-01-05</td>\n",
       "      <td>True</td>\n",
       "      <td>Covidien</td>\n",
       "      <td>Not Recruiting</td>\n",
       "      <td>Not Applicable</td>\n",
       "      <td>Interventional</td>\n",
       "      <td>United Kingdom</td>\n",
       "      <td>A post-market clinical study to evaluate the K...</td>\n",
       "      <td>Not relevant</td>\n",
       "      <td>Not relevant</td>\n",
       "      <td>Not relevant</td>\n",
       "      <td>100</td>\n",
       "      <td>http://isrctn.com/ISRCTN18948812</td>\n",
       "      <td>None</td>\n",
       "    </tr>\n",
       "    <tr>\n",
       "      <th>1</th>\n",
       "      <td>1</td>\n",
       "      <td>NCT00223119</td>\n",
       "      <td>ClinicalTrials.gov</td>\n",
       "      <td>2005-09-13</td>\n",
       "      <td>2004-01-01</td>\n",
       "      <td>True</td>\n",
       "      <td>Covidien</td>\n",
       "      <td>Not Recruiting</td>\n",
       "      <td>Phase 4</td>\n",
       "      <td>Interventional</td>\n",
       "      <td>United States</td>\n",
       "      <td>Comparison of Absorbable Sutures in Perineal L...</td>\n",
       "      <td>Not relevant</td>\n",
       "      <td>Not relevant</td>\n",
       "      <td>Not relevant</td>\n",
       "      <td>Not Available</td>\n",
       "      <td>http://clinicaltrials.gov/show/NCT00223119</td>\n",
       "      <td>None</td>\n",
       "    </tr>\n",
       "    <tr>\n",
       "      <th>2</th>\n",
       "      <td>2</td>\n",
       "      <td>NCT00223132</td>\n",
       "      <td>ClinicalTrials.gov</td>\n",
       "      <td>2005-09-13</td>\n",
       "      <td>2005-02-01</td>\n",
       "      <td>True</td>\n",
       "      <td>Covidien</td>\n",
       "      <td>Not Recruiting</td>\n",
       "      <td>Phase 4</td>\n",
       "      <td>Interventional</td>\n",
       "      <td>United States</td>\n",
       "      <td>Suture Granuloma in Body Contouring Surgery</td>\n",
       "      <td>Not relevant</td>\n",
       "      <td>Not relevant</td>\n",
       "      <td>Not relevant</td>\n",
       "      <td>Not Available</td>\n",
       "      <td>http://clinicaltrials.gov/show/NCT00223132</td>\n",
       "      <td>None</td>\n",
       "    </tr>\n",
       "    <tr>\n",
       "      <th>3</th>\n",
       "      <td>3</td>\n",
       "      <td>NCT00289523</td>\n",
       "      <td>ClinicalTrials.gov</td>\n",
       "      <td>2006-02-08</td>\n",
       "      <td>2006-01-01</td>\n",
       "      <td>True</td>\n",
       "      <td>Covidien</td>\n",
       "      <td>Not Recruiting</td>\n",
       "      <td>Not Applicable</td>\n",
       "      <td>Observational</td>\n",
       "      <td>United States</td>\n",
       "      <td>EEG Biomarkers for Predicting Response to Anti...</td>\n",
       "      <td>Not relevant</td>\n",
       "      <td>Not relevant</td>\n",
       "      <td>Not relevant</td>\n",
       "      <td>375</td>\n",
       "      <td>http://clinicaltrials.gov/show/NCT00289523</td>\n",
       "      <td>None</td>\n",
       "    </tr>\n",
       "    <tr>\n",
       "      <th>4</th>\n",
       "      <td>4</td>\n",
       "      <td>NCT00308984</td>\n",
       "      <td>ClinicalTrials.gov</td>\n",
       "      <td>2006-03-28</td>\n",
       "      <td>2006-01-01</td>\n",
       "      <td>True</td>\n",
       "      <td>Covidien</td>\n",
       "      <td>Not Recruiting</td>\n",
       "      <td>Not Applicable</td>\n",
       "      <td>Observational</td>\n",
       "      <td>United States</td>\n",
       "      <td>CARE--Childhood Awareness and Recall Evaluation</td>\n",
       "      <td>Not relevant</td>\n",
       "      <td>Not relevant</td>\n",
       "      <td>Not relevant</td>\n",
       "      <td>1784</td>\n",
       "      <td>http://clinicaltrials.gov/show/NCT00308984</td>\n",
       "      <td>None</td>\n",
       "    </tr>\n",
       "  </tbody>\n",
       "</table>\n",
       "</div>"
      ],
      "text/plain": [
       "   index         trialid     source_register date_registration  \\\n",
       "0      0  ISRCTN18948812              ISRCTN        2014-04-09   \n",
       "1      1     NCT00223119  ClinicalTrials.gov        2005-09-13   \n",
       "2      2     NCT00223132  ClinicalTrials.gov        2005-09-13   \n",
       "3      3     NCT00289523  ClinicalTrials.gov        2006-02-08   \n",
       "4      4     NCT00308984  ClinicalTrials.gov        2006-03-28   \n",
       "\n",
       "  date_enrollement  retrospective_registration normed_spon_names  \\\n",
       "0       2014-01-05                        True          Covidien   \n",
       "1       2004-01-01                        True          Covidien   \n",
       "2       2005-02-01                        True          Covidien   \n",
       "3       2006-01-01                        True          Covidien   \n",
       "4       2006-01-01                        True          Covidien   \n",
       "\n",
       "  recruitment_status           phase      study_type       countries  \\\n",
       "0     Not Recruiting  Not Applicable  Interventional  United Kingdom   \n",
       "1     Not Recruiting         Phase 4  Interventional   United States   \n",
       "2     Not Recruiting         Phase 4  Interventional   United States   \n",
       "3     Not Recruiting  Not Applicable   Observational   United States   \n",
       "4     Not Recruiting  Not Applicable   Observational   United States   \n",
       "\n",
       "                                        public_title study_category  \\\n",
       "0  A post-market clinical study to evaluate the K...   Not relevant   \n",
       "1  Comparison of Absorbable Sutures in Perineal L...   Not relevant   \n",
       "2        Suture Granuloma in Body Contouring Surgery   Not relevant   \n",
       "3  EEG Biomarkers for Predicting Response to Anti...   Not relevant   \n",
       "4    CARE--Childhood Awareness and Recall Evaluation   Not relevant   \n",
       "\n",
       "   intervention intervention_list target_enrollment  \\\n",
       "0  Not relevant      Not relevant               100   \n",
       "1  Not relevant      Not relevant     Not Available   \n",
       "2  Not relevant      Not relevant     Not Available   \n",
       "3  Not relevant      Not relevant               375   \n",
       "4  Not relevant      Not relevant              1784   \n",
       "\n",
       "                                  web_address cross_registrations  \n",
       "0            http://isrctn.com/ISRCTN18948812                None  \n",
       "1  http://clinicaltrials.gov/show/NCT00223119                None  \n",
       "2  http://clinicaltrials.gov/show/NCT00223132                None  \n",
       "3  http://clinicaltrials.gov/show/NCT00289523                None  \n",
       "4  http://clinicaltrials.gov/show/NCT00308984                None  "
      ]
     },
     "execution_count": 6,
     "metadata": {},
     "output_type": "execute_result"
    }
   ],
   "source": [
    "ictrp.head()"
   ]
  },
  {
   "cell_type": "code",
   "execution_count": 7,
   "metadata": {},
   "outputs": [],
   "source": [
    "merged = reg.merge(ictrp[['trialid', 'web_address']], how='left', \n",
    "                   left_on='trial_id', right_on='trialid').drop('trialid', axis=1)"
   ]
  },
  {
   "cell_type": "code",
   "execution_count": 8,
   "metadata": {},
   "outputs": [],
   "source": [
    "merged['pcd'] = pd.to_datetime(merged['pcd'], errors='coerce')\n",
    "merged['scd'] = pd.to_datetime(merged['scd'], errors='coerce')"
   ]
  },
  {
   "cell_type": "code",
   "execution_count": 9,
   "metadata": {},
   "outputs": [],
   "source": [
    "conditions = [merged.pcd.notnull(), (merged.pcd.isnull() & merged.scd.notnull()), (merged.pcd.isnull() & merged.scd.isnull())]\n",
    "choices = [merged.pcd, merged.scd, None]\n",
    "\n",
    "merged['relevent_comp_date'] = np.select(conditions, choices)\n",
    "merged['relevent_comp_date'] = pd.to_datetime(merged['relevent_comp_date'], errors='coerce')"
   ]
  },
  {
   "cell_type": "code",
   "execution_count": 10,
   "metadata": {},
   "outputs": [],
   "source": [
    "merged['tabular_results'] = np.where(merged.reg_results_status.isin(['Study Results', 'View results']), 1, 0)"
   ]
  },
  {
   "cell_type": "code",
   "execution_count": 11,
   "metadata": {},
   "outputs": [],
   "source": [
    "filt_1 = merged.other_results_1.notnull()\n",
    "\n",
    "filt_2 = merged.other_results_2.notnull()"
   ]
  },
  {
   "cell_type": "code",
   "execution_count": 12,
   "metadata": {},
   "outputs": [],
   "source": [
    "merged['potential_other_results'] = np.where((filt_1 | filt_2), 1, 0)"
   ]
  },
  {
   "cell_type": "code",
   "execution_count": 16,
   "metadata": {},
   "outputs": [],
   "source": [
    "merged.to_csv(parent + '/data/registry_data/registry_data_clean.csv')"
   ]
  },
  {
   "cell_type": "code",
   "execution_count": null,
   "metadata": {},
   "outputs": [],
   "source": []
  },
  {
   "cell_type": "code",
   "execution_count": null,
   "metadata": {},
   "outputs": [],
   "source": []
  }
 ],
 "metadata": {
  "jupytext": {
   "cell_metadata_filter": "all",
   "notebook_metadata_filter": "all,-language_info",
   "text_representation": {
    "extension": ".py",
    "format_name": "light",
    "format_version": "1.5",
    "jupytext_version": "1.3.3"
   }
  },
  "kernelspec": {
   "display_name": "Python 3",
   "language": "python",
   "name": "python3"
  },
  "language_info": {
   "codemirror_mode": {
    "name": "ipython",
    "version": 3
   },
   "file_extension": ".py",
   "mimetype": "text/x-python",
   "name": "python",
   "nbconvert_exporter": "python",
   "pygments_lexer": "ipython3",
   "version": "3.8.1"
  }
 },
 "nbformat": 4,
 "nbformat_minor": 4
}
