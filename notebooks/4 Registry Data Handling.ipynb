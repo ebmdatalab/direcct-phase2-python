{
 "cells": [
  {
   "cell_type": "markdown",
   "metadata": {},
   "source": [
    "After running the scrapers in Notebook 3 and manually retrieving additional data from the registries from a small number of trials, we combined this data in an excel sheet `registry_data.xlsx` detailing the data collected and where it came from. This notebook will clean up this data in a way we can use to be merged into the final dataset"
   ]
  },
  {
   "cell_type": "code",
   "execution_count": 1,
   "metadata": {},
   "outputs": [],
   "source": [
    "import sys\n",
    "from pathlib import Path\n",
    "import os\n",
    "cwd = os.getcwd()\n",
    "parent = str(Path(cwd).parents[0])\n",
    "sys.path.append(parent)"
   ]
  },
  {
   "cell_type": "code",
   "execution_count": 2,
   "metadata": {},
   "outputs": [],
   "source": [
    "import pandas as pd\n",
    "import re\n",
    "import numpy as np"
   ]
  },
  {
   "cell_type": "code",
   "execution_count": 3,
   "metadata": {},
   "outputs": [],
   "source": [
    "reg = pd.read_excel(parent + '/data/registry_data/registry_data_apr22.xlsx', sheet_name='Full')\n",
    "\n",
    "ictrp = pd.read_csv(parent + '/data/cleaned_ictrp_1jul2021.csv')"
   ]
  },
  {
   "cell_type": "code",
   "execution_count": 4,
   "metadata": {},
   "outputs": [
    {
     "data": {
      "text/plain": [
       "Index(['trial_id', 'trial_status', 'pcd', 'scd', 'reg_results_status',\n",
       "       'other_results_1', 'other_results_2', 'last_updated'],\n",
       "      dtype='object')"
      ]
     },
     "execution_count": 4,
     "metadata": {},
     "output_type": "execute_result"
    }
   ],
   "source": [
    "reg.columns"
   ]
  },
  {
   "cell_type": "code",
   "execution_count": 5,
   "metadata": {},
   "outputs": [
    {
     "data": {
      "text/html": [
       "<div>\n",
       "<style scoped>\n",
       "    .dataframe tbody tr th:only-of-type {\n",
       "        vertical-align: middle;\n",
       "    }\n",
       "\n",
       "    .dataframe tbody tr th {\n",
       "        vertical-align: top;\n",
       "    }\n",
       "\n",
       "    .dataframe thead th {\n",
       "        text-align: right;\n",
       "    }\n",
       "</style>\n",
       "<table border=\"1\" class=\"dataframe\">\n",
       "  <thead>\n",
       "    <tr style=\"text-align: right;\">\n",
       "      <th></th>\n",
       "      <th>Unnamed: 0</th>\n",
       "      <th>trialid</th>\n",
       "      <th>source_register</th>\n",
       "      <th>date_registration</th>\n",
       "      <th>date_enrollement</th>\n",
       "      <th>retrospective_registration</th>\n",
       "      <th>recruitment_status</th>\n",
       "      <th>phase</th>\n",
       "      <th>study_type</th>\n",
       "      <th>countries</th>\n",
       "      <th>public_title</th>\n",
       "      <th>target_enrollment</th>\n",
       "      <th>web_address</th>\n",
       "    </tr>\n",
       "  </thead>\n",
       "  <tbody>\n",
       "    <tr>\n",
       "      <th>0</th>\n",
       "      <td>0</td>\n",
       "      <td>IRCT20180223038837N1</td>\n",
       "      <td>IRCT</td>\n",
       "      <td>2018-12-08</td>\n",
       "      <td>2018-10-23</td>\n",
       "      <td>True</td>\n",
       "      <td>Recruiting</td>\n",
       "      <td>Not Applicable</td>\n",
       "      <td>Interventional</td>\n",
       "      <td>Iran</td>\n",
       "      <td>Comparative study of radiofrequency ablation &amp;...</td>\n",
       "      <td>60</td>\n",
       "      <td>http://en.irct.ir/trial/32039</td>\n",
       "    </tr>\n",
       "    <tr>\n",
       "      <th>1</th>\n",
       "      <td>1</td>\n",
       "      <td>NCT04246242</td>\n",
       "      <td>ClinicalTrials.gov</td>\n",
       "      <td>2020-01-27</td>\n",
       "      <td>2020-01-25</td>\n",
       "      <td>True</td>\n",
       "      <td>Not Recruiting</td>\n",
       "      <td>Phase 4</td>\n",
       "      <td>Interventional</td>\n",
       "      <td>No Country Given</td>\n",
       "      <td>A Randomized Multicenter Controlled Clinical T...</td>\n",
       "      <td>500</td>\n",
       "      <td>https://clinicaltrials.gov/show/NCT04246242</td>\n",
       "    </tr>\n",
       "    <tr>\n",
       "      <th>2</th>\n",
       "      <td>2</td>\n",
       "      <td>ChiCTR2000029953</td>\n",
       "      <td>ChiCTR</td>\n",
       "      <td>2020-02-17</td>\n",
       "      <td>2020-02-01</td>\n",
       "      <td>True</td>\n",
       "      <td>Not Recruiting</td>\n",
       "      <td>Not Applicable</td>\n",
       "      <td>Observational</td>\n",
       "      <td>China</td>\n",
       "      <td>Construction and Analysis of Prognostic Predic...</td>\n",
       "      <td>400</td>\n",
       "      <td>http://www.chictr.org.cn/showproj.aspx?proj=49217</td>\n",
       "    </tr>\n",
       "    <tr>\n",
       "      <th>3</th>\n",
       "      <td>3</td>\n",
       "      <td>ChiCTR2000029949</td>\n",
       "      <td>ChiCTR</td>\n",
       "      <td>2020-02-16</td>\n",
       "      <td>2020-02-16</td>\n",
       "      <td>False</td>\n",
       "      <td>Not Recruiting</td>\n",
       "      <td>Not Applicable</td>\n",
       "      <td>Observational</td>\n",
       "      <td>China</td>\n",
       "      <td>A Medical Records Based Study for the Effectiv...</td>\n",
       "      <td>40</td>\n",
       "      <td>http://www.chictr.org.cn/showproj.aspx?proj=49181</td>\n",
       "    </tr>\n",
       "    <tr>\n",
       "      <th>4</th>\n",
       "      <td>4</td>\n",
       "      <td>ChiCTR2000029947</td>\n",
       "      <td>ChiCTR</td>\n",
       "      <td>2020-02-16</td>\n",
       "      <td>2020-03-01</td>\n",
       "      <td>False</td>\n",
       "      <td>Not Recruiting</td>\n",
       "      <td>Not Applicable</td>\n",
       "      <td>Interventional</td>\n",
       "      <td>China</td>\n",
       "      <td>A Randomized Controlled Trial for Qingyi No. 4...</td>\n",
       "      <td>200</td>\n",
       "      <td>http://www.chictr.org.cn/showproj.aspx?proj=49599</td>\n",
       "    </tr>\n",
       "  </tbody>\n",
       "</table>\n",
       "</div>"
      ],
      "text/plain": [
       "   Unnamed: 0               trialid     source_register date_registration  \\\n",
       "0           0  IRCT20180223038837N1                IRCT        2018-12-08   \n",
       "1           1           NCT04246242  ClinicalTrials.gov        2020-01-27   \n",
       "2           2      ChiCTR2000029953              ChiCTR        2020-02-17   \n",
       "3           3      ChiCTR2000029949              ChiCTR        2020-02-16   \n",
       "4           4      ChiCTR2000029947              ChiCTR        2020-02-16   \n",
       "\n",
       "  date_enrollement  retrospective_registration recruitment_status  \\\n",
       "0       2018-10-23                        True         Recruiting   \n",
       "1       2020-01-25                        True     Not Recruiting   \n",
       "2       2020-02-01                        True     Not Recruiting   \n",
       "3       2020-02-16                       False     Not Recruiting   \n",
       "4       2020-03-01                       False     Not Recruiting   \n",
       "\n",
       "            phase      study_type         countries  \\\n",
       "0  Not Applicable  Interventional              Iran   \n",
       "1         Phase 4  Interventional  No Country Given   \n",
       "2  Not Applicable   Observational             China   \n",
       "3  Not Applicable   Observational             China   \n",
       "4  Not Applicable  Interventional             China   \n",
       "\n",
       "                                        public_title target_enrollment  \\\n",
       "0  Comparative study of radiofrequency ablation &...                60   \n",
       "1  A Randomized Multicenter Controlled Clinical T...               500   \n",
       "2  Construction and Analysis of Prognostic Predic...               400   \n",
       "3  A Medical Records Based Study for the Effectiv...                40   \n",
       "4  A Randomized Controlled Trial for Qingyi No. 4...               200   \n",
       "\n",
       "                                         web_address  \n",
       "0                      http://en.irct.ir/trial/32039  \n",
       "1        https://clinicaltrials.gov/show/NCT04246242  \n",
       "2  http://www.chictr.org.cn/showproj.aspx?proj=49217  \n",
       "3  http://www.chictr.org.cn/showproj.aspx?proj=49181  \n",
       "4  http://www.chictr.org.cn/showproj.aspx?proj=49599  "
      ]
     },
     "execution_count": 5,
     "metadata": {},
     "output_type": "execute_result"
    }
   ],
   "source": [
    "ictrp.head()"
   ]
  },
  {
   "cell_type": "code",
   "execution_count": 6,
   "metadata": {},
   "outputs": [],
   "source": [
    "merged = reg.merge(ictrp[['trialid', 'web_address']], how='left', \n",
    "                   left_on='trial_id', right_on='trialid').drop('trialid', axis=1)"
   ]
  },
  {
   "cell_type": "code",
   "execution_count": 7,
   "metadata": {},
   "outputs": [],
   "source": [
    "merged['pcd'] = pd.to_datetime(merged['pcd'], errors='coerce')\n",
    "merged['scd'] = pd.to_datetime(merged['scd'], errors='coerce')"
   ]
  },
  {
   "cell_type": "code",
   "execution_count": 8,
   "metadata": {},
   "outputs": [],
   "source": [
    "conditions = [merged.pcd.notnull(), (merged.pcd.isnull() & merged.scd.notnull()), (merged.pcd.isnull() & merged.scd.isnull())]\n",
    "choices = [merged.pcd, merged.scd, None]\n",
    "\n",
    "merged['relevant_comp_date'] = np.select(conditions, choices)\n",
    "merged['relevant_comp_date'] = pd.to_datetime(merged['relevant_comp_date'], errors='coerce')"
   ]
  },
  {
   "cell_type": "code",
   "execution_count": 9,
   "metadata": {},
   "outputs": [],
   "source": [
    "merged['tabular_results'] = np.where(merged.reg_results_status.isin(['Study Results', 'View results']), 1, 0)"
   ]
  },
  {
   "cell_type": "code",
   "execution_count": 10,
   "metadata": {},
   "outputs": [],
   "source": [
    "filt_1 = merged.other_results_1.notnull()\n",
    "\n",
    "filt_2 = merged.other_results_2.notnull()"
   ]
  },
  {
   "cell_type": "code",
   "execution_count": 11,
   "metadata": {},
   "outputs": [],
   "source": [
    "merged['potential_other_results'] = np.where((filt_1 | filt_2), 1, 0)"
   ]
  },
  {
   "cell_type": "code",
   "execution_count": 12,
   "metadata": {},
   "outputs": [],
   "source": [
    "merged.to_csv(parent + '/data/registry_data/registry_data_clean_apr22.csv')"
   ]
  },
  {
   "cell_type": "code",
   "execution_count": 14,
   "metadata": {
    "lines_to_next_cell": 0
   },
   "outputs": [
    {
     "data": {
      "text/plain": [
       "10801"
      ]
     },
     "execution_count": 14,
     "metadata": {},
     "output_type": "execute_result"
    }
   ],
   "source": [
    "len(merged)"
   ]
  },
  {
   "cell_type": "code",
   "execution_count": null,
   "metadata": {
    "lines_to_next_cell": 2
   },
   "outputs": [],
   "source": []
  }
 ],
 "metadata": {
  "jupytext": {
   "cell_metadata_filter": "all",
   "notebook_metadata_filter": "all,-language_info"
  },
  "kernelspec": {
   "display_name": "Python 3",
   "language": "python",
   "name": "python3"
  },
  "language_info": {
   "codemirror_mode": {
    "name": "ipython",
    "version": 3
   },
   "file_extension": ".py",
   "mimetype": "text/x-python",
   "name": "python",
   "nbconvert_exporter": "python",
   "pygments_lexer": "ipython3",
   "version": "3.8.1"
  }
 },
 "nbformat": 4,
 "nbformat_minor": 4
}
