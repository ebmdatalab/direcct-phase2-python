{
 "cells": [
  {
   "cell_type": "code",
   "execution_count": 1,
   "id": "04e10449-496f-4c19-bda6-b906281dfe16",
   "metadata": {},
   "outputs": [],
   "source": [
    "import sys\n",
    "from pathlib import Path\n",
    "import os\n",
    "cwd = os.getcwd()\n",
    "parent = str(Path(cwd).parents[0])\n",
    "sys.path.append(parent)"
   ]
  },
  {
   "cell_type": "code",
   "execution_count": 96,
   "id": "345d3b1d-d891-454d-a175-d90227e4b958",
   "metadata": {},
   "outputs": [],
   "source": [
    "import pandas as pd\n",
    "import numpy as np"
   ]
  },
  {
   "cell_type": "code",
   "execution_count": 52,
   "id": "dd27d4a4-65d7-4999-a523-dd44b5d6c706",
   "metadata": {},
   "outputs": [],
   "source": [
    "raw_extract = pd.read_csv(parent + '/data/interventions/2022-05-26_034658-form_7-refset_34-extractions.tsv', sep='\\t', encoding=\"ISO-8859-1\")\n",
    "raw_arms = pd.read_csv(parent + '/data/interventions/2022-05-26_034703-sub_arm-refset_34-sub-extraction.tsv', sep='\\t', encoding=\"ISO-8859-1\")\n",
    "rec_extract = pd.read_csv(parent + '/data/interventions/2022-05-26_034706-form_7-refset_34-final.tsv', sep='\\t', encoding=\"ISO-8859-1\")\n",
    "rec_arms = pd.read_csv(parent + '/data/interventions/2022-05-26_034711-sub_arm-refset_34-sub-final.tsv', sep='\\t', encoding=\"ISO-8859-1\")"
   ]
  },
  {
   "cell_type": "code",
   "execution_count": 53,
   "id": "6f34192b-f97e-43d5-8f6e-d4adceee1173",
   "metadata": {},
   "outputs": [],
   "source": [
    "reconciled_ids = rec_arms.db_id.to_list()"
   ]
  },
  {
   "cell_type": "code",
   "execution_count": 54,
   "id": "dbf29c5f-dc71-4e04-a4a0-244d458d04a5",
   "metadata": {},
   "outputs": [],
   "source": [
    "remove_rec = raw_arms[~raw_arms.db_id.isin(reconciled_ids)]"
   ]
  },
  {
   "cell_type": "code",
   "execution_count": 98,
   "id": "9d54c051-dfb1-414b-a84c-b31e084f5756",
   "metadata": {},
   "outputs": [],
   "source": [
    "cols = ['db_id', 'trialid', 'type', 'placebo_plus_soc', 'category', 'intervention', 'intervention_plus_soc']"
   ]
  },
  {
   "cell_type": "code",
   "execution_count": 56,
   "id": "40372651-55e9-4059-b094-ca39b6193b5a",
   "metadata": {},
   "outputs": [],
   "source": [
    "final_int = pd.concat([remove_rec[cols], rec_arms[cols]]).reset_index(drop=True)"
   ]
  },
  {
   "cell_type": "code",
   "execution_count": 93,
   "id": "027bcf00-0d91-4368-baef-effdccad8f5e",
   "metadata": {},
   "outputs": [],
   "source": [
    "final_exp = final_int[final_int.type == 'experimental'].reset_index(drop=True)"
   ]
  },
  {
   "cell_type": "code",
   "execution_count": 97,
   "id": "de03bfbd-da20-4ad4-a1a0-dba436bb7969",
   "metadata": {},
   "outputs": [],
   "source": [
    "final_exp['HCQ'] = np.where(final_exp.intervention.str.contains('Hydroxychloroquine'), 1, 0)\n",
    "final_exp['IVE'] = np.where(final_exp.intervention.str.contains('Ivermectin'), 1, 0)\n",
    "final_exp['CP'] = np.where(final_exp.intervention.str.contains('Convalescent Plasma'), 1, 0)"
   ]
  },
  {
   "cell_type": "code",
   "execution_count": 104,
   "id": "1b4b643e-1a5f-4197-bf5d-e7f2a5f8824c",
   "metadata": {},
   "outputs": [],
   "source": [
    "final_exp[['db_id', 'HCQ', 'IVE', 'CP']].groupby('db_id').sum().to_csv(parent + '/data/interventions/common_ints.csv')"
   ]
  },
  {
   "cell_type": "code",
   "execution_count": null,
   "id": "b137d19d-a0bd-4528-bde8-23891825fac5",
   "metadata": {},
   "outputs": [],
   "source": []
  },
  {
   "cell_type": "code",
   "execution_count": null,
   "id": "3c3717f7-6cbe-46b9-91fd-2d6dc80bcd3c",
   "metadata": {},
   "outputs": [],
   "source": []
  },
  {
   "cell_type": "code",
   "execution_count": null,
   "id": "703f9a1b-c7d0-4519-809b-6a7ada833be4",
   "metadata": {},
   "outputs": [],
   "source": []
  },
  {
   "cell_type": "code",
   "execution_count": null,
   "id": "43eacd0b-d16e-4cdf-b156-8d3b62a03cd6",
   "metadata": {},
   "outputs": [],
   "source": []
  },
  {
   "cell_type": "code",
   "execution_count": null,
   "id": "4ba8993f-fac2-40e7-ab4c-528fff630883",
   "metadata": {},
   "outputs": [],
   "source": []
  },
  {
   "cell_type": "code",
   "execution_count": 88,
   "id": "4904b9c4-0894-44af-9c81-db1a5e439224",
   "metadata": {},
   "outputs": [],
   "source": [
    "ints = final_int[final_int.type == 'experimental'].intervention"
   ]
  },
  {
   "cell_type": "code",
   "execution_count": 81,
   "id": "df3068e0-87bd-460c-b14a-aa9cae005b91",
   "metadata": {},
   "outputs": [
    {
     "data": {
      "text/plain": [
       "0          Traditional Medicine\n",
       "2          Traditional Medicine\n",
       "4          Traditional Medicine\n",
       "6                      Azvudine\n",
       "8          Traditional Medicine\n",
       "                 ...           \n",
       "3922            Povidone-iodine\n",
       "3923    Chlorhexidine gluconate\n",
       "3925                 Amiodarone\n",
       "3926                  Verapamil\n",
       "3928                 Ivermectin\n",
       "Name: intervention, Length: 2470, dtype: object"
      ]
     },
     "execution_count": 81,
     "metadata": {},
     "output_type": "execute_result"
    }
   ],
   "source": [
    "ints"
   ]
  },
  {
   "cell_type": "code",
   "execution_count": null,
   "id": "ec746c72-813a-49c7-b354-362a1425a49e",
   "metadata": {},
   "outputs": [],
   "source": []
  },
  {
   "cell_type": "code",
   "execution_count": 89,
   "id": "1dad0be5-2d65-473d-9f10-c4459f29fdfb",
   "metadata": {},
   "outputs": [],
   "source": [
    "ints_exp = final_int[final_int.type == 'experimental']"
   ]
  },
  {
   "cell_type": "code",
   "execution_count": null,
   "id": "90e034c2-e024-4b8b-9387-55a50e5ee9ed",
   "metadata": {},
   "outputs": [],
   "source": [
    "ints_exp[ints_exp."
   ]
  },
  {
   "cell_type": "code",
   "execution_count": 86,
   "id": "07a6a208-95bb-43c1-8196-08b87d890f30",
   "metadata": {},
   "outputs": [
    {
     "data": {
      "text/html": [
       "<div>\n",
       "<style scoped>\n",
       "    .dataframe tbody tr th:only-of-type {\n",
       "        vertical-align: middle;\n",
       "    }\n",
       "\n",
       "    .dataframe tbody tr th {\n",
       "        vertical-align: top;\n",
       "    }\n",
       "\n",
       "    .dataframe thead th {\n",
       "        text-align: right;\n",
       "    }\n",
       "</style>\n",
       "<table border=\"1\" class=\"dataframe\">\n",
       "  <thead>\n",
       "    <tr style=\"text-align: right;\">\n",
       "      <th></th>\n",
       "      <th>db_id</th>\n",
       "      <th>trialid</th>\n",
       "      <th>type</th>\n",
       "      <th>placebo_plus_soc</th>\n",
       "      <th>category</th>\n",
       "      <th>intervention</th>\n",
       "      <th>intervention_plus_soc</th>\n",
       "    </tr>\n",
       "  </thead>\n",
       "  <tbody>\n",
       "  </tbody>\n",
       "</table>\n",
       "</div>"
      ],
      "text/plain": [
       "Empty DataFrame\n",
       "Columns: [db_id, trialid, type, placebo_plus_soc, category, intervention, intervention_plus_soc]\n",
       "Index: []"
      ]
     },
     "execution_count": 86,
     "metadata": {},
     "output_type": "execute_result"
    }
   ],
   "source": [
    "final_int[final_int.intervention == 'Dabur chyawanprash']"
   ]
  },
  {
   "cell_type": "code",
   "execution_count": null,
   "id": "a19eef05-1643-4897-b758-4b0773a49aaa",
   "metadata": {},
   "outputs": [],
   "source": []
  },
  {
   "cell_type": "code",
   "execution_count": null,
   "id": "b177f508-a964-4097-8bd6-acb0528eae9b",
   "metadata": {},
   "outputs": [],
   "source": []
  },
  {
   "cell_type": "code",
   "execution_count": null,
   "id": "a9abcebf-efa9-4104-8bc6-63800a7a4297",
   "metadata": {},
   "outputs": [],
   "source": []
  },
  {
   "cell_type": "code",
   "execution_count": null,
   "id": "5cb14551-ce30-407f-9dc0-fb85d87a7dc8",
   "metadata": {},
   "outputs": [],
   "source": []
  },
  {
   "cell_type": "code",
   "execution_count": null,
   "id": "832aa126-1d5f-42e2-9eea-e71ecabe237b",
   "metadata": {},
   "outputs": [],
   "source": []
  },
  {
   "cell_type": "code",
   "execution_count": null,
   "id": "017f5c30-2270-47cd-ae06-20fa653589c5",
   "metadata": {},
   "outputs": [],
   "source": []
  },
  {
   "cell_type": "code",
   "execution_count": 59,
   "id": "f1f3ff6d-3f5c-40b2-8e5d-a15361cc7cd5",
   "metadata": {},
   "outputs": [],
   "source": [
    "int_list = ints.to_list()"
   ]
  },
  {
   "cell_type": "code",
   "execution_count": 61,
   "id": "e5f3d7ef-25ec-4843-8d83-5becfb3be90e",
   "metadata": {},
   "outputs": [],
   "source": [
    "all_ints = []\n",
    "for i in int_list:\n",
    "    if ';' in i:\n",
    "        all_ints = all_ints + i.split(';')\n",
    "    else:\n",
    "        all_ints.append(i)"
   ]
  },
  {
   "cell_type": "code",
   "execution_count": 63,
   "id": "9200ee2f-7738-4c7b-b3c0-3c7ef9ab18b3",
   "metadata": {},
   "outputs": [],
   "source": [
    "import collections\n",
    "c = collections.Counter(x for x in all_ints if x)"
   ]
  },
  {
   "cell_type": "code",
   "execution_count": 76,
   "id": "c1106267-384a-42ce-a862-2d61db749c20",
   "metadata": {},
   "outputs": [],
   "source": [
    "int_counts = pd.DataFrame.from_dict(dict(c), orient='index').reset_index()\n",
    "int_counts.columns = ['interventions', 'counts']"
   ]
  },
  {
   "cell_type": "code",
   "execution_count": 80,
   "id": "bbbfd5aa-72f1-4087-8a08-e849bb0ba712",
   "metadata": {},
   "outputs": [
    {
     "data": {
      "text/html": [
       "<div>\n",
       "<style scoped>\n",
       "    .dataframe tbody tr th:only-of-type {\n",
       "        vertical-align: middle;\n",
       "    }\n",
       "\n",
       "    .dataframe tbody tr th {\n",
       "        vertical-align: top;\n",
       "    }\n",
       "\n",
       "    .dataframe thead th {\n",
       "        text-align: right;\n",
       "    }\n",
       "</style>\n",
       "<table border=\"1\" class=\"dataframe\">\n",
       "  <thead>\n",
       "    <tr style=\"text-align: right;\">\n",
       "      <th></th>\n",
       "      <th>interventions</th>\n",
       "      <th>counts</th>\n",
       "    </tr>\n",
       "  </thead>\n",
       "  <tbody>\n",
       "    <tr>\n",
       "      <th>0</th>\n",
       "      <td>Traditional Medicine</td>\n",
       "      <td>223</td>\n",
       "    </tr>\n",
       "    <tr>\n",
       "      <th>32</th>\n",
       "      <td>Hydroxychloroquine</td>\n",
       "      <td>198</td>\n",
       "    </tr>\n",
       "    <tr>\n",
       "      <th>10</th>\n",
       "      <td>Convalescent Plasma</td>\n",
       "      <td>135</td>\n",
       "    </tr>\n",
       "    <tr>\n",
       "      <th>40</th>\n",
       "      <td>Ivermectin</td>\n",
       "      <td>64</td>\n",
       "    </tr>\n",
       "    <tr>\n",
       "      <th>23</th>\n",
       "      <td>Ritonavir</td>\n",
       "      <td>61</td>\n",
       "    </tr>\n",
       "    <tr>\n",
       "      <th>33</th>\n",
       "      <td>Azithromycin</td>\n",
       "      <td>58</td>\n",
       "    </tr>\n",
       "    <tr>\n",
       "      <th>22</th>\n",
       "      <td>Lopinavir</td>\n",
       "      <td>54</td>\n",
       "    </tr>\n",
       "    <tr>\n",
       "      <th>18</th>\n",
       "      <td>Tocilizumab</td>\n",
       "      <td>51</td>\n",
       "    </tr>\n",
       "    <tr>\n",
       "      <th>13</th>\n",
       "      <td>Favipiravir</td>\n",
       "      <td>51</td>\n",
       "    </tr>\n",
       "    <tr>\n",
       "      <th>28</th>\n",
       "      <td>Chloroquine</td>\n",
       "      <td>41</td>\n",
       "    </tr>\n",
       "  </tbody>\n",
       "</table>\n",
       "</div>"
      ],
      "text/plain": [
       "           interventions  counts\n",
       "0   Traditional Medicine     223\n",
       "32    Hydroxychloroquine     198\n",
       "10   Convalescent Plasma     135\n",
       "40            Ivermectin      64\n",
       "23             Ritonavir      61\n",
       "33          Azithromycin      58\n",
       "22             Lopinavir      54\n",
       "18           Tocilizumab      51\n",
       "13           Favipiravir      51\n",
       "28           Chloroquine      41"
      ]
     },
     "execution_count": 80,
     "metadata": {},
     "output_type": "execute_result"
    }
   ],
   "source": [
    "int_counts.sort_values(by='counts', ascending=False).head(10)"
   ]
  },
  {
   "cell_type": "code",
   "execution_count": 83,
   "id": "b196637f-59b8-43b2-a32a-9cb82a03cd3d",
   "metadata": {},
   "outputs": [],
   "source": [
    "int_counts.to_csv(parent + '/data/interventions/unique_ints.csv')"
   ]
  },
  {
   "cell_type": "code",
   "execution_count": null,
   "id": "4bc1b214-f707-4bef-9d0c-747ade29ac44",
   "metadata": {},
   "outputs": [],
   "source": []
  },
  {
   "cell_type": "code",
   "execution_count": null,
   "id": "dddf58cc-7b77-4c40-a895-1e73afa7864a",
   "metadata": {},
   "outputs": [],
   "source": []
  },
  {
   "cell_type": "code",
   "execution_count": null,
   "id": "3bb9407c-7cb7-4774-8889-c4857fc3654f",
   "metadata": {},
   "outputs": [],
   "source": []
  },
  {
   "cell_type": "code",
   "execution_count": null,
   "id": "f33fced5-a323-4a08-8899-5bf47679cc84",
   "metadata": {},
   "outputs": [],
   "source": []
  },
  {
   "cell_type": "code",
   "execution_count": null,
   "id": "99dc64aa-aaa8-4318-a953-1708d502e031",
   "metadata": {},
   "outputs": [],
   "source": []
  }
 ],
 "metadata": {
  "jupytext": {
   "cell_metadata_filter": "all",
   "notebook_metadata_filter": "all,-language_info"
  },
  "kernelspec": {
   "display_name": "Python 3",
   "language": "python",
   "name": "python3"
  },
  "language_info": {
   "codemirror_mode": {
    "name": "ipython",
    "version": 3
   },
   "file_extension": ".py",
   "mimetype": "text/x-python",
   "name": "python",
   "nbconvert_exporter": "python",
   "pygments_lexer": "ipython3",
   "version": "3.8.1"
  }
 },
 "nbformat": 4,
 "nbformat_minor": 5
}
